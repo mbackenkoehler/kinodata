{
 "cells": [
  {
   "cell_type": "markdown",
   "id": "6f9ecb77-a154-4388-ba77-988a5533a327",
   "metadata": {},
   "source": [
    "# EGFR kinase"
   ]
  },
  {
   "cell_type": "markdown",
   "id": "00422c86-e20e-40bd-9663-45611c1876af",
   "metadata": {},
   "source": [
    "This notebook filters the already curated ChEMBL database for the EGFR kinase."
   ]
  },
  {
   "cell_type": "code",
   "execution_count": 1,
   "id": "73fc14bf-eba2-4b34-b3bb-415be34602f4",
   "metadata": {},
   "outputs": [],
   "source": [
    "from pathlib import Path\n",
    "import pandas as pd\n",
    "from collections import Counter"
   ]
  },
  {
   "cell_type": "code",
   "execution_count": 2,
   "id": "0df58fd9-45e3-4a71-9f4c-f478bf587eb5",
   "metadata": {},
   "outputs": [],
   "source": [
    "HERE = Path(_dh[-1])\n",
    "REPO = (HERE / \"..\").resolve()\n",
    "DATA = REPO / \"data\"\n",
    "OUT = HERE / \"_out\"\n",
    "OUT.mkdir(parents=True, exist_ok=True)"
   ]
  },
  {
   "cell_type": "code",
   "execution_count": 3,
   "id": "fc9e564c-d8d8-4c74-a666-4c73da9f97ac",
   "metadata": {},
   "outputs": [],
   "source": [
    "CHEMBL_VERSION = 29"
   ]
  },
  {
   "cell_type": "code",
   "execution_count": 4,
   "id": "5f8e5138-c4a2-4445-bf3a-eecd307ca9ba",
   "metadata": {},
   "outputs": [
    {
     "name": "stdout",
     "output_type": "stream",
     "text": [
      "Shape of data: (190634, 17)\n"
     ]
    }
   ],
   "source": [
    "path = f\"https://github.com/openkinome/kinodata/releases/download/v0.3/activities-chembl{CHEMBL_VERSION}_v0.3.zip\"\n",
    "data = pd.read_csv(path)\n",
    "print(f\"Shape of data: {data.shape}\")"
   ]
  },
  {
   "cell_type": "code",
   "execution_count": 5,
   "id": "bdda2492-60ac-42af-a1f0-d4a4c1e6b23f",
   "metadata": {},
   "outputs": [
    {
     "data": {
      "text/html": [
       "<div>\n",
       "<style scoped>\n",
       "    .dataframe tbody tr th:only-of-type {\n",
       "        vertical-align: middle;\n",
       "    }\n",
       "\n",
       "    .dataframe tbody tr th {\n",
       "        vertical-align: top;\n",
       "    }\n",
       "\n",
       "    .dataframe thead th {\n",
       "        text-align: right;\n",
       "    }\n",
       "</style>\n",
       "<table border=\"1\" class=\"dataframe\">\n",
       "  <thead>\n",
       "    <tr style=\"text-align: right;\">\n",
       "      <th></th>\n",
       "      <th>Unnamed: 0</th>\n",
       "      <th>activities.activity_id</th>\n",
       "      <th>assays.chembl_id</th>\n",
       "      <th>target_dictionary.chembl_id</th>\n",
       "      <th>molecule_dictionary.chembl_id</th>\n",
       "      <th>molecule_dictionary.max_phase</th>\n",
       "      <th>activities.standard_type</th>\n",
       "      <th>activities.standard_value</th>\n",
       "      <th>activities.standard_units</th>\n",
       "      <th>compound_structures.canonical_smiles</th>\n",
       "      <th>compound_structures.standard_inchi</th>\n",
       "      <th>component_sequences.sequence</th>\n",
       "      <th>assays.confidence_score</th>\n",
       "      <th>docs.chembl_id</th>\n",
       "      <th>docs.year</th>\n",
       "      <th>docs.authors</th>\n",
       "      <th>UniprotID</th>\n",
       "    </tr>\n",
       "  </thead>\n",
       "  <tbody>\n",
       "    <tr>\n",
       "      <th>0</th>\n",
       "      <td>96698</td>\n",
       "      <td>16291323</td>\n",
       "      <td>CHEMBL3705523</td>\n",
       "      <td>CHEMBL2973</td>\n",
       "      <td>CHEMBL3666724</td>\n",
       "      <td>0</td>\n",
       "      <td>pIC50</td>\n",
       "      <td>14.096910</td>\n",
       "      <td>nM</td>\n",
       "      <td>CCCC(=O)Nc1cccc(-c2nc(Nc3ccc4[nH]ncc4c3)c3cc(O...</td>\n",
       "      <td>InChI=1S/C31H33N7O3/c1-2-4-29(40)33-22-6-3-5-2...</td>\n",
       "      <td>MSRPPPTGKMPGAPETAPGDGAGASRQRKLEALIRDPRSPINVESL...</td>\n",
       "      <td>9</td>\n",
       "      <td>CHEMBL3639077</td>\n",
       "      <td>2014.0</td>\n",
       "      <td>NaN</td>\n",
       "      <td>O75116</td>\n",
       "    </tr>\n",
       "    <tr>\n",
       "      <th>1</th>\n",
       "      <td>94326</td>\n",
       "      <td>16264754</td>\n",
       "      <td>CHEMBL3705523</td>\n",
       "      <td>CHEMBL2973</td>\n",
       "      <td>CHEMBL3666728</td>\n",
       "      <td>0</td>\n",
       "      <td>pIC50</td>\n",
       "      <td>14.000000</td>\n",
       "      <td>nM</td>\n",
       "      <td>CCCC(=O)Nc1cccc(-c2nc(Nc3ccc4[nH]ncc4c3)c3cc(O...</td>\n",
       "      <td>InChI=1S/C34H40N8O3/c1-5-7-32(43)36-24-9-6-8-2...</td>\n",
       "      <td>MSRPPPTGKMPGAPETAPGDGAGASRQRKLEALIRDPRSPINVESL...</td>\n",
       "      <td>9</td>\n",
       "      <td>CHEMBL3639077</td>\n",
       "      <td>2014.0</td>\n",
       "      <td>NaN</td>\n",
       "      <td>O75116</td>\n",
       "    </tr>\n",
       "    <tr>\n",
       "      <th>2</th>\n",
       "      <td>98119</td>\n",
       "      <td>16306943</td>\n",
       "      <td>CHEMBL3705523</td>\n",
       "      <td>CHEMBL2973</td>\n",
       "      <td>CHEMBL1968705</td>\n",
       "      <td>0</td>\n",
       "      <td>pIC50</td>\n",
       "      <td>14.000000</td>\n",
       "      <td>nM</td>\n",
       "      <td>CCCC(=O)Nc1cccc(-c2nc(Nc3ccc4[nH]ncc4c3)c3cc(O...</td>\n",
       "      <td>InChI=1S/C31H33N7O2/c1-2-6-29(39)33-23-8-5-7-2...</td>\n",
       "      <td>MSRPPPTGKMPGAPETAPGDGAGASRQRKLEALIRDPRSPINVESL...</td>\n",
       "      <td>9</td>\n",
       "      <td>CHEMBL3639077</td>\n",
       "      <td>2014.0</td>\n",
       "      <td>NaN</td>\n",
       "      <td>O75116</td>\n",
       "    </tr>\n",
       "    <tr>\n",
       "      <th>3</th>\n",
       "      <td>101161</td>\n",
       "      <td>16340050</td>\n",
       "      <td>CHEMBL3705523</td>\n",
       "      <td>CHEMBL2973</td>\n",
       "      <td>CHEMBL1997433</td>\n",
       "      <td>0</td>\n",
       "      <td>pIC50</td>\n",
       "      <td>13.958607</td>\n",
       "      <td>nM</td>\n",
       "      <td>CCCC(=O)Nc1cccc(-c2nc(Nc3ccc4[nH]ncc4c3)c3cc(O...</td>\n",
       "      <td>InChI=1S/C28H28N6O3/c1-3-5-26(35)30-20-7-4-6-1...</td>\n",
       "      <td>MSRPPPTGKMPGAPETAPGDGAGASRQRKLEALIRDPRSPINVESL...</td>\n",
       "      <td>9</td>\n",
       "      <td>CHEMBL3639077</td>\n",
       "      <td>2014.0</td>\n",
       "      <td>NaN</td>\n",
       "      <td>O75116</td>\n",
       "    </tr>\n",
       "    <tr>\n",
       "      <th>4</th>\n",
       "      <td>96324</td>\n",
       "      <td>16287186</td>\n",
       "      <td>CHEMBL3705523</td>\n",
       "      <td>CHEMBL2973</td>\n",
       "      <td>CHEMBL3666721</td>\n",
       "      <td>0</td>\n",
       "      <td>pIC50</td>\n",
       "      <td>13.920819</td>\n",
       "      <td>nM</td>\n",
       "      <td>CCCC(=O)Nc1cccc(-c2nc(Nc3ccc4[nH]ncc4c3)c3cc(O...</td>\n",
       "      <td>InChI=1S/C32H35N7O2/c1-2-7-30(40)34-24-9-6-8-2...</td>\n",
       "      <td>MSRPPPTGKMPGAPETAPGDGAGASRQRKLEALIRDPRSPINVESL...</td>\n",
       "      <td>9</td>\n",
       "      <td>CHEMBL3639077</td>\n",
       "      <td>2014.0</td>\n",
       "      <td>NaN</td>\n",
       "      <td>O75116</td>\n",
       "    </tr>\n",
       "  </tbody>\n",
       "</table>\n",
       "</div>"
      ],
      "text/plain": [
       "   Unnamed: 0  activities.activity_id assays.chembl_id  \\\n",
       "0       96698                16291323    CHEMBL3705523   \n",
       "1       94326                16264754    CHEMBL3705523   \n",
       "2       98119                16306943    CHEMBL3705523   \n",
       "3      101161                16340050    CHEMBL3705523   \n",
       "4       96324                16287186    CHEMBL3705523   \n",
       "\n",
       "  target_dictionary.chembl_id molecule_dictionary.chembl_id  \\\n",
       "0                  CHEMBL2973                 CHEMBL3666724   \n",
       "1                  CHEMBL2973                 CHEMBL3666728   \n",
       "2                  CHEMBL2973                 CHEMBL1968705   \n",
       "3                  CHEMBL2973                 CHEMBL1997433   \n",
       "4                  CHEMBL2973                 CHEMBL3666721   \n",
       "\n",
       "   molecule_dictionary.max_phase activities.standard_type  \\\n",
       "0                              0                    pIC50   \n",
       "1                              0                    pIC50   \n",
       "2                              0                    pIC50   \n",
       "3                              0                    pIC50   \n",
       "4                              0                    pIC50   \n",
       "\n",
       "   activities.standard_value activities.standard_units  \\\n",
       "0                  14.096910                        nM   \n",
       "1                  14.000000                        nM   \n",
       "2                  14.000000                        nM   \n",
       "3                  13.958607                        nM   \n",
       "4                  13.920819                        nM   \n",
       "\n",
       "                compound_structures.canonical_smiles  \\\n",
       "0  CCCC(=O)Nc1cccc(-c2nc(Nc3ccc4[nH]ncc4c3)c3cc(O...   \n",
       "1  CCCC(=O)Nc1cccc(-c2nc(Nc3ccc4[nH]ncc4c3)c3cc(O...   \n",
       "2  CCCC(=O)Nc1cccc(-c2nc(Nc3ccc4[nH]ncc4c3)c3cc(O...   \n",
       "3  CCCC(=O)Nc1cccc(-c2nc(Nc3ccc4[nH]ncc4c3)c3cc(O...   \n",
       "4  CCCC(=O)Nc1cccc(-c2nc(Nc3ccc4[nH]ncc4c3)c3cc(O...   \n",
       "\n",
       "                  compound_structures.standard_inchi  \\\n",
       "0  InChI=1S/C31H33N7O3/c1-2-4-29(40)33-22-6-3-5-2...   \n",
       "1  InChI=1S/C34H40N8O3/c1-5-7-32(43)36-24-9-6-8-2...   \n",
       "2  InChI=1S/C31H33N7O2/c1-2-6-29(39)33-23-8-5-7-2...   \n",
       "3  InChI=1S/C28H28N6O3/c1-3-5-26(35)30-20-7-4-6-1...   \n",
       "4  InChI=1S/C32H35N7O2/c1-2-7-30(40)34-24-9-6-8-2...   \n",
       "\n",
       "                        component_sequences.sequence  assays.confidence_score  \\\n",
       "0  MSRPPPTGKMPGAPETAPGDGAGASRQRKLEALIRDPRSPINVESL...                        9   \n",
       "1  MSRPPPTGKMPGAPETAPGDGAGASRQRKLEALIRDPRSPINVESL...                        9   \n",
       "2  MSRPPPTGKMPGAPETAPGDGAGASRQRKLEALIRDPRSPINVESL...                        9   \n",
       "3  MSRPPPTGKMPGAPETAPGDGAGASRQRKLEALIRDPRSPINVESL...                        9   \n",
       "4  MSRPPPTGKMPGAPETAPGDGAGASRQRKLEALIRDPRSPINVESL...                        9   \n",
       "\n",
       "  docs.chembl_id  docs.year docs.authors UniprotID  \n",
       "0  CHEMBL3639077     2014.0          NaN    O75116  \n",
       "1  CHEMBL3639077     2014.0          NaN    O75116  \n",
       "2  CHEMBL3639077     2014.0          NaN    O75116  \n",
       "3  CHEMBL3639077     2014.0          NaN    O75116  \n",
       "4  CHEMBL3639077     2014.0          NaN    O75116  "
      ]
     },
     "execution_count": 5,
     "metadata": {},
     "output_type": "execute_result"
    }
   ],
   "source": [
    "data.head()"
   ]
  },
  {
   "cell_type": "code",
   "execution_count": 6,
   "id": "5cf59ef6-b63e-4282-ab56-fcdc19a7c849",
   "metadata": {},
   "outputs": [
    {
     "name": "stdout",
     "output_type": "stream",
     "text": [
      "Number of unique uniprot IDs: 462\n"
     ]
    }
   ],
   "source": [
    "print(f\"Number of unique uniprot IDs: {len(set(data['UniprotID']))}\")"
   ]
  },
  {
   "cell_type": "markdown",
   "id": "63c629f6-76e1-4dae-84f1-17af2c457d56",
   "metadata": {},
   "source": [
    "Let's focus on the EGRF kinase. Its uniprot ID is P00533, see https://www.uniprot.org/uniprot/P00533"
   ]
  },
  {
   "cell_type": "code",
   "execution_count": 7,
   "id": "76cb28e6-647a-45b3-b93b-6c4bec47f927",
   "metadata": {},
   "outputs": [
    {
     "name": "stdout",
     "output_type": "stream",
     "text": [
      "Shape of data: (6509, 17)\n"
     ]
    }
   ],
   "source": [
    "data = data[data[\"UniprotID\"] == \"P00533\"]\n",
    "print(f\"Shape of data: {data.shape}\")"
   ]
  },
  {
   "cell_type": "markdown",
   "id": "39b091b5-ad42-405d-b553-8d028d28cb0c",
   "metadata": {},
   "source": [
    "We save the EGFR activity data to a csv."
   ]
  },
  {
   "cell_type": "code",
   "execution_count": 8,
   "id": "9bee799e-d5d9-422d-bc90-9c44af01d119",
   "metadata": {},
   "outputs": [],
   "source": [
    "data.to_csv(OUT / f\"EGFR-activities-chembl{CHEMBL_VERSION}.csv\")"
   ]
  },
  {
   "cell_type": "markdown",
   "id": "26437d4b-b412-4351-88a1-6082b6306097",
   "metadata": {},
   "source": [
    "And compress it:"
   ]
  },
  {
   "cell_type": "code",
   "execution_count": 9,
   "id": "85f68cc3-5132-43f6-beba-b4dc66e1b6d2",
   "metadata": {},
   "outputs": [
    {
     "name": "stdout",
     "output_type": "stream",
     "text": [
      "  adding: EGFR-activities-chembl29.csv (deflated 89%)\n"
     ]
    }
   ],
   "source": [
    "%%bash\n",
    "cd _out\n",
    "zip -r EGFR-activities-chembl29.zip EGFR-activities-chembl29.csv"
   ]
  },
  {
   "cell_type": "markdown",
   "id": "f1785581-6512-4d1b-bd99-b04101f3c33b",
   "metadata": {},
   "source": [
    "## Subset of the EGFR affinity data"
   ]
  },
  {
   "cell_type": "markdown",
   "id": "6b26e148-8099-49de-86ab-6ae2a737f0a3",
   "metadata": {},
   "source": [
    "For testing purposes, it is often convenient to work with a sample of data points. We simply pick the first $100$."
   ]
  },
  {
   "cell_type": "code",
   "execution_count": 10,
   "id": "fec5e0c6-05eb-4ed3-9920-277d8f87d3b4",
   "metadata": {},
   "outputs": [],
   "source": [
    "EGFR_sample = data[0:100]"
   ]
  },
  {
   "cell_type": "code",
   "execution_count": 11,
   "id": "97a865cc-8de4-4614-9e0e-ac98e45a5bd5",
   "metadata": {},
   "outputs": [
    {
     "data": {
      "text/plain": [
       "(100, 17)"
      ]
     },
     "execution_count": 11,
     "metadata": {},
     "output_type": "execute_result"
    }
   ],
   "source": [
    "EGFR_sample.shape"
   ]
  },
  {
   "cell_type": "code",
   "execution_count": 12,
   "id": "9d576c30-ba3d-4c60-9029-8d843dc58eac",
   "metadata": {},
   "outputs": [
    {
     "data": {
      "text/html": [
       "<div>\n",
       "<style scoped>\n",
       "    .dataframe tbody tr th:only-of-type {\n",
       "        vertical-align: middle;\n",
       "    }\n",
       "\n",
       "    .dataframe tbody tr th {\n",
       "        vertical-align: top;\n",
       "    }\n",
       "\n",
       "    .dataframe thead th {\n",
       "        text-align: right;\n",
       "    }\n",
       "</style>\n",
       "<table border=\"1\" class=\"dataframe\">\n",
       "  <thead>\n",
       "    <tr style=\"text-align: right;\">\n",
       "      <th></th>\n",
       "      <th>Unnamed: 0</th>\n",
       "      <th>activities.activity_id</th>\n",
       "      <th>assays.chembl_id</th>\n",
       "      <th>target_dictionary.chembl_id</th>\n",
       "      <th>molecule_dictionary.chembl_id</th>\n",
       "      <th>molecule_dictionary.max_phase</th>\n",
       "      <th>activities.standard_type</th>\n",
       "      <th>activities.standard_value</th>\n",
       "      <th>activities.standard_units</th>\n",
       "      <th>compound_structures.canonical_smiles</th>\n",
       "      <th>compound_structures.standard_inchi</th>\n",
       "      <th>component_sequences.sequence</th>\n",
       "      <th>assays.confidence_score</th>\n",
       "      <th>docs.chembl_id</th>\n",
       "      <th>docs.year</th>\n",
       "      <th>docs.authors</th>\n",
       "      <th>UniprotID</th>\n",
       "    </tr>\n",
       "  </thead>\n",
       "  <tbody>\n",
       "    <tr>\n",
       "      <th>58</th>\n",
       "      <td>7654</td>\n",
       "      <td>1044894</td>\n",
       "      <td>CHEMBL683040</td>\n",
       "      <td>CHEMBL203</td>\n",
       "      <td>CHEMBL63786</td>\n",
       "      <td>0</td>\n",
       "      <td>pIC50</td>\n",
       "      <td>11.522879</td>\n",
       "      <td>nM</td>\n",
       "      <td>Brc1cccc(Nc2ncnc3cc4ccccc4cc23)c1</td>\n",
       "      <td>InChI=1S/C18H12BrN3/c19-14-6-3-7-15(10-14)22-1...</td>\n",
       "      <td>MRPSGTAGAALLALLAALCPASRALEEKKVCQGTSNKLTQLGTFED...</td>\n",
       "      <td>9</td>\n",
       "      <td>CHEMBL1129035</td>\n",
       "      <td>1996.0</td>\n",
       "      <td>Rewcastle GW, Palmer BD, Bridges AJ, Showalter...</td>\n",
       "      <td>P00533</td>\n",
       "    </tr>\n",
       "    <tr>\n",
       "      <th>98</th>\n",
       "      <td>4823</td>\n",
       "      <td>720032</td>\n",
       "      <td>CHEMBL674648</td>\n",
       "      <td>CHEMBL203</td>\n",
       "      <td>CHEMBL53711</td>\n",
       "      <td>0</td>\n",
       "      <td>pIC50</td>\n",
       "      <td>11.221849</td>\n",
       "      <td>nM</td>\n",
       "      <td>CN(C)c1cc2c(Nc3cccc(Br)c3)ncnc2cn1</td>\n",
       "      <td>InChI=1S/C15H14BrN5/c1-21(2)14-7-12-13(8-17-14...</td>\n",
       "      <td>MRPSGTAGAALLALLAALCPASRALEEKKVCQGTSNKLTQLGTFED...</td>\n",
       "      <td>8</td>\n",
       "      <td>CHEMBL1131301</td>\n",
       "      <td>1998.0</td>\n",
       "      <td>Rewcastle GW, Murray DK, Elliott WL, Fry DW, H...</td>\n",
       "      <td>P00533</td>\n",
       "    </tr>\n",
       "    <tr>\n",
       "      <th>99</th>\n",
       "      <td>23101</td>\n",
       "      <td>2136934</td>\n",
       "      <td>CHEMBL939337</td>\n",
       "      <td>CHEMBL203</td>\n",
       "      <td>CHEMBL35820</td>\n",
       "      <td>0</td>\n",
       "      <td>pIC50</td>\n",
       "      <td>11.221849</td>\n",
       "      <td>nM</td>\n",
       "      <td>CCOc1cc2ncnc(Nc3cccc(Br)c3)c2cc1OCC</td>\n",
       "      <td>InChI=1S/C18H18BrN3O2/c1-3-23-16-9-14-15(10-17...</td>\n",
       "      <td>MRPSGTAGAALLALLAALCPASRALEEKKVCQGTSNKLTQLGTFED...</td>\n",
       "      <td>8</td>\n",
       "      <td>CHEMBL1145498</td>\n",
       "      <td>2007.0</td>\n",
       "      <td>Fedorov O, Marsden B, Pogacic V, Rellos P, Mül...</td>\n",
       "      <td>P00533</td>\n",
       "    </tr>\n",
       "    <tr>\n",
       "      <th>140</th>\n",
       "      <td>2647</td>\n",
       "      <td>400160</td>\n",
       "      <td>CHEMBL679944</td>\n",
       "      <td>CHEMBL203</td>\n",
       "      <td>CHEMBL53753</td>\n",
       "      <td>0</td>\n",
       "      <td>pIC50</td>\n",
       "      <td>11.096910</td>\n",
       "      <td>nM</td>\n",
       "      <td>CNc1cc2c(Nc3cccc(Br)c3)ncnc2cn1</td>\n",
       "      <td>InChI=1S/C14H12BrN5/c1-16-13-6-11-12(7-17-13)1...</td>\n",
       "      <td>MRPSGTAGAALLALLAALCPASRALEEKKVCQGTSNKLTQLGTFED...</td>\n",
       "      <td>8</td>\n",
       "      <td>CHEMBL1132555</td>\n",
       "      <td>1999.0</td>\n",
       "      <td>Showalter HD, Bridges AJ, Zhou H, Sercel AD, M...</td>\n",
       "      <td>P00533</td>\n",
       "    </tr>\n",
       "    <tr>\n",
       "      <th>141</th>\n",
       "      <td>7726</td>\n",
       "      <td>1054530</td>\n",
       "      <td>CHEMBL683040</td>\n",
       "      <td>CHEMBL203</td>\n",
       "      <td>CHEMBL66031</td>\n",
       "      <td>0</td>\n",
       "      <td>pIC50</td>\n",
       "      <td>11.096910</td>\n",
       "      <td>nM</td>\n",
       "      <td>Brc1cccc(Nc2ncnc3cc4[nH]cnc4cc23)c1</td>\n",
       "      <td>InChI=1S/C15H10BrN5/c16-9-2-1-3-10(4-9)21-15-1...</td>\n",
       "      <td>MRPSGTAGAALLALLAALCPASRALEEKKVCQGTSNKLTQLGTFED...</td>\n",
       "      <td>9</td>\n",
       "      <td>CHEMBL1129035</td>\n",
       "      <td>1996.0</td>\n",
       "      <td>Rewcastle GW, Palmer BD, Bridges AJ, Showalter...</td>\n",
       "      <td>P00533</td>\n",
       "    </tr>\n",
       "  </tbody>\n",
       "</table>\n",
       "</div>"
      ],
      "text/plain": [
       "     Unnamed: 0  activities.activity_id assays.chembl_id  \\\n",
       "58         7654                 1044894     CHEMBL683040   \n",
       "98         4823                  720032     CHEMBL674648   \n",
       "99        23101                 2136934     CHEMBL939337   \n",
       "140        2647                  400160     CHEMBL679944   \n",
       "141        7726                 1054530     CHEMBL683040   \n",
       "\n",
       "    target_dictionary.chembl_id molecule_dictionary.chembl_id  \\\n",
       "58                    CHEMBL203                   CHEMBL63786   \n",
       "98                    CHEMBL203                   CHEMBL53711   \n",
       "99                    CHEMBL203                   CHEMBL35820   \n",
       "140                   CHEMBL203                   CHEMBL53753   \n",
       "141                   CHEMBL203                   CHEMBL66031   \n",
       "\n",
       "     molecule_dictionary.max_phase activities.standard_type  \\\n",
       "58                               0                    pIC50   \n",
       "98                               0                    pIC50   \n",
       "99                               0                    pIC50   \n",
       "140                              0                    pIC50   \n",
       "141                              0                    pIC50   \n",
       "\n",
       "     activities.standard_value activities.standard_units  \\\n",
       "58                   11.522879                        nM   \n",
       "98                   11.221849                        nM   \n",
       "99                   11.221849                        nM   \n",
       "140                  11.096910                        nM   \n",
       "141                  11.096910                        nM   \n",
       "\n",
       "    compound_structures.canonical_smiles  \\\n",
       "58     Brc1cccc(Nc2ncnc3cc4ccccc4cc23)c1   \n",
       "98    CN(C)c1cc2c(Nc3cccc(Br)c3)ncnc2cn1   \n",
       "99   CCOc1cc2ncnc(Nc3cccc(Br)c3)c2cc1OCC   \n",
       "140      CNc1cc2c(Nc3cccc(Br)c3)ncnc2cn1   \n",
       "141  Brc1cccc(Nc2ncnc3cc4[nH]cnc4cc23)c1   \n",
       "\n",
       "                    compound_structures.standard_inchi  \\\n",
       "58   InChI=1S/C18H12BrN3/c19-14-6-3-7-15(10-14)22-1...   \n",
       "98   InChI=1S/C15H14BrN5/c1-21(2)14-7-12-13(8-17-14...   \n",
       "99   InChI=1S/C18H18BrN3O2/c1-3-23-16-9-14-15(10-17...   \n",
       "140  InChI=1S/C14H12BrN5/c1-16-13-6-11-12(7-17-13)1...   \n",
       "141  InChI=1S/C15H10BrN5/c16-9-2-1-3-10(4-9)21-15-1...   \n",
       "\n",
       "                          component_sequences.sequence  \\\n",
       "58   MRPSGTAGAALLALLAALCPASRALEEKKVCQGTSNKLTQLGTFED...   \n",
       "98   MRPSGTAGAALLALLAALCPASRALEEKKVCQGTSNKLTQLGTFED...   \n",
       "99   MRPSGTAGAALLALLAALCPASRALEEKKVCQGTSNKLTQLGTFED...   \n",
       "140  MRPSGTAGAALLALLAALCPASRALEEKKVCQGTSNKLTQLGTFED...   \n",
       "141  MRPSGTAGAALLALLAALCPASRALEEKKVCQGTSNKLTQLGTFED...   \n",
       "\n",
       "     assays.confidence_score docs.chembl_id  docs.year  \\\n",
       "58                         9  CHEMBL1129035     1996.0   \n",
       "98                         8  CHEMBL1131301     1998.0   \n",
       "99                         8  CHEMBL1145498     2007.0   \n",
       "140                        8  CHEMBL1132555     1999.0   \n",
       "141                        9  CHEMBL1129035     1996.0   \n",
       "\n",
       "                                          docs.authors UniprotID  \n",
       "58   Rewcastle GW, Palmer BD, Bridges AJ, Showalter...    P00533  \n",
       "98   Rewcastle GW, Murray DK, Elliott WL, Fry DW, H...    P00533  \n",
       "99   Fedorov O, Marsden B, Pogacic V, Rellos P, Mül...    P00533  \n",
       "140  Showalter HD, Bridges AJ, Zhou H, Sercel AD, M...    P00533  \n",
       "141  Rewcastle GW, Palmer BD, Bridges AJ, Showalter...    P00533  "
      ]
     },
     "execution_count": 12,
     "metadata": {},
     "output_type": "execute_result"
    }
   ],
   "source": [
    "EGFR_sample.head()"
   ]
  },
  {
   "cell_type": "markdown",
   "id": "3ab8c6aa-0194-47fd-a128-6a27a02a1b95",
   "metadata": {},
   "source": [
    "We save the sample to a csv:"
   ]
  },
  {
   "cell_type": "code",
   "execution_count": 13,
   "id": "389a699a-29a3-47d7-8fbd-568267eedbec",
   "metadata": {},
   "outputs": [],
   "source": [
    "data.to_csv(OUT / f\"EGFR-activities-chembl{CHEMBL_VERSION}-sample.csv\")"
   ]
  },
  {
   "cell_type": "markdown",
   "id": "4ef645a5-aff7-40a8-b923-a74d85a26047",
   "metadata": {},
   "source": [
    "And compress it:"
   ]
  },
  {
   "cell_type": "code",
   "execution_count": 14,
   "id": "9340d89d-978b-4aec-9e72-588c54457675",
   "metadata": {},
   "outputs": [
    {
     "name": "stdout",
     "output_type": "stream",
     "text": [
      "  adding: EGFR-activities-chembl29-sample.csv (deflated 89%)\n"
     ]
    }
   ],
   "source": [
    "%%bash\n",
    "cd _out\n",
    "zip -r EGFR-activities-chembl29-sample.zip EGFR-activities-chembl29-sample.csv"
   ]
  }
 ],
 "metadata": {
  "kernelspec": {
   "display_name": "Python 3",
   "language": "python",
   "name": "python3"
  },
  "language_info": {
   "codemirror_mode": {
    "name": "ipython",
    "version": 3
   },
   "file_extension": ".py",
   "mimetype": "text/x-python",
   "name": "python",
   "nbconvert_exporter": "python",
   "pygments_lexer": "ipython3",
   "version": "3.8.8"
  }
 },
 "nbformat": 4,
 "nbformat_minor": 5
}
