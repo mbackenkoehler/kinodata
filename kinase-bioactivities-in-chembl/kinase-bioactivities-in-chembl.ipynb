{
 "cells": [
  {
   "cell_type": "markdown",
   "metadata": {},
   "source": [
    "# Query ChEMBL for bioactivities involving protein kinases\n",
    "\n",
    "ChEMBL stores a good amount of bioactivities for protein-ligand complexes in the field of kinases. Before running this notebook, we have identified the set of human protein kinases we want to target (`/human-kinases`) and under what identifiers these proteins are stored in ChEMBL (`/kinases-in-chembl`).\n",
    "\n",
    "Now we can query ChEMBL for all bioactivities involving these targets but first we need to make sure we don't run into some common pitfalls (see section \"Curate the dataset\")."
   ]
  },
  {
   "cell_type": "code",
   "execution_count": 1,
   "metadata": {},
   "outputs": [],
   "source": [
    "import sqlite3 as sql\n",
    "import csv\n",
    "import os\n",
    "from pathlib import Path\n",
    "from collections import defaultdict\n",
    "\n",
    "import pandas as pd\n",
    "from tqdm import tnrange\n",
    "import numpy as np"
   ]
  },
  {
   "cell_type": "code",
   "execution_count": 2,
   "metadata": {},
   "outputs": [],
   "source": [
    "HERE = Path(_dh[-1])\n",
    "REPO = (HERE / \"..\").resolve()\n",
    "DATA = REPO / \"data\"\n",
    "OUT = HERE / \"_out\"\n",
    "OUT.mkdir(parents=True, exist_ok=True)"
   ]
  },
  {
   "cell_type": "markdown",
   "metadata": {},
   "source": [
    "Get the [local export](https://chembl.gitbook.io/chembl-interface-documentation/downloads) for the ChEMBL version you want to query. You need the one named `chembl_<VERSION>_sqlite.tar.gz`. Extract the `*.db` file and point to its location using `CHEMBL_SQLITE_PATH` below:"
   ]
  },
  {
   "cell_type": "code",
   "execution_count": 3,
   "metadata": {},
   "outputs": [],
   "source": [
    "CHEMBL_VERSION = 30\n",
    "CHEMBL_SQLITE_PATH = f\"../../_chembl_fetcher/chembl_{CHEMBL_VERSION}/chembl_{CHEMBL_VERSION}_sqlite/chembl_{CHEMBL_VERSION}.db\""
   ]
  },
  {
   "cell_type": "markdown",
   "metadata": {},
   "source": [
    "# Map `chembl_targets` to `UniprotID`.\n",
    "\n",
    "This file is generated with the `kinase-in-chembl` notebooks. Update it if you think there might be more ChEMBL targets."
   ]
  },
  {
   "cell_type": "code",
   "execution_count": 4,
   "metadata": {},
   "outputs": [
    {
     "data": {
      "text/html": [
       "<div>\n",
       "<style scoped>\n",
       "    .dataframe tbody tr th:only-of-type {\n",
       "        vertical-align: middle;\n",
       "    }\n",
       "\n",
       "    .dataframe tbody tr th {\n",
       "        vertical-align: top;\n",
       "    }\n",
       "\n",
       "    .dataframe thead th {\n",
       "        text-align: right;\n",
       "    }\n",
       "</style>\n",
       "<table border=\"1\" class=\"dataframe\">\n",
       "  <thead>\n",
       "    <tr style=\"text-align: right;\">\n",
       "      <th></th>\n",
       "      <th>UniprotID</th>\n",
       "      <th>Name</th>\n",
       "      <th>chembl_targets</th>\n",
       "      <th>type</th>\n",
       "      <th>origin</th>\n",
       "    </tr>\n",
       "  </thead>\n",
       "  <tbody>\n",
       "    <tr>\n",
       "      <th>0</th>\n",
       "      <td>A4QPH2</td>\n",
       "      <td>PI4KAP2</td>\n",
       "      <td>CHEMBL4105789</td>\n",
       "      <td>SINGLE PROTEIN</td>\n",
       "      <td>klifs</td>\n",
       "    </tr>\n",
       "    <tr>\n",
       "      <th>1</th>\n",
       "      <td>O00141</td>\n",
       "      <td>SGK1</td>\n",
       "      <td>CHEMBL2343</td>\n",
       "      <td>SINGLE PROTEIN</td>\n",
       "      <td>kinhub|klifs|pkinfam|reviewed_uniprot|dunbrack...</td>\n",
       "    </tr>\n",
       "    <tr>\n",
       "      <th>2</th>\n",
       "      <td>O00238</td>\n",
       "      <td>BMR1B|BMPR1B</td>\n",
       "      <td>CHEMBL5476</td>\n",
       "      <td>SINGLE PROTEIN</td>\n",
       "      <td>kinhub|klifs|pkinfam|reviewed_uniprot|dunbrack...</td>\n",
       "    </tr>\n",
       "    <tr>\n",
       "      <th>3</th>\n",
       "      <td>O00311</td>\n",
       "      <td>CDC7</td>\n",
       "      <td>CHEMBL5443</td>\n",
       "      <td>SINGLE PROTEIN</td>\n",
       "      <td>kinhub|klifs|pkinfam|reviewed_uniprot|dunbrack...</td>\n",
       "    </tr>\n",
       "    <tr>\n",
       "      <th>4</th>\n",
       "      <td>O00329</td>\n",
       "      <td>PIK3CD</td>\n",
       "      <td>CHEMBL3130</td>\n",
       "      <td>SINGLE PROTEIN</td>\n",
       "      <td>klifs|pkinfam</td>\n",
       "    </tr>\n",
       "    <tr>\n",
       "      <th>...</th>\n",
       "      <td>...</td>\n",
       "      <td>...</td>\n",
       "      <td>...</td>\n",
       "      <td>...</td>\n",
       "      <td>...</td>\n",
       "    </tr>\n",
       "    <tr>\n",
       "      <th>489</th>\n",
       "      <td>Q9Y5S2</td>\n",
       "      <td>CDC42BPB|MRCKB</td>\n",
       "      <td>CHEMBL5052</td>\n",
       "      <td>SINGLE PROTEIN</td>\n",
       "      <td>kinhub|klifs|pkinfam|reviewed_uniprot|dunbrack...</td>\n",
       "    </tr>\n",
       "    <tr>\n",
       "      <th>490</th>\n",
       "      <td>Q9Y616</td>\n",
       "      <td>IRAK3</td>\n",
       "      <td>CHEMBL5081</td>\n",
       "      <td>SINGLE PROTEIN</td>\n",
       "      <td>kinhub|klifs|pkinfam|reviewed_uniprot|dunbrack...</td>\n",
       "    </tr>\n",
       "    <tr>\n",
       "      <th>491</th>\n",
       "      <td>Q9Y6E0</td>\n",
       "      <td>STK24</td>\n",
       "      <td>CHEMBL5082</td>\n",
       "      <td>SINGLE PROTEIN</td>\n",
       "      <td>kinhub|klifs|pkinfam|reviewed_uniprot|dunbrack...</td>\n",
       "    </tr>\n",
       "    <tr>\n",
       "      <th>492</th>\n",
       "      <td>Q9Y6M4</td>\n",
       "      <td>CSNK1G3|KC1G3</td>\n",
       "      <td>CHEMBL5084</td>\n",
       "      <td>SINGLE PROTEIN</td>\n",
       "      <td>kinhub|klifs|pkinfam|reviewed_uniprot|dunbrack...</td>\n",
       "    </tr>\n",
       "    <tr>\n",
       "      <th>493</th>\n",
       "      <td>Q9Y6R4</td>\n",
       "      <td>M3K4|MAP3K4</td>\n",
       "      <td>CHEMBL4853</td>\n",
       "      <td>SINGLE PROTEIN</td>\n",
       "      <td>kinhub|klifs|pkinfam|reviewed_uniprot|dunbrack...</td>\n",
       "    </tr>\n",
       "  </tbody>\n",
       "</table>\n",
       "<p>494 rows × 5 columns</p>\n",
       "</div>"
      ],
      "text/plain": [
       "    UniprotID            Name chembl_targets            type  \\\n",
       "0      A4QPH2         PI4KAP2  CHEMBL4105789  SINGLE PROTEIN   \n",
       "1      O00141            SGK1     CHEMBL2343  SINGLE PROTEIN   \n",
       "2      O00238    BMR1B|BMPR1B     CHEMBL5476  SINGLE PROTEIN   \n",
       "3      O00311            CDC7     CHEMBL5443  SINGLE PROTEIN   \n",
       "4      O00329          PIK3CD     CHEMBL3130  SINGLE PROTEIN   \n",
       "..        ...             ...            ...             ...   \n",
       "489    Q9Y5S2  CDC42BPB|MRCKB     CHEMBL5052  SINGLE PROTEIN   \n",
       "490    Q9Y616           IRAK3     CHEMBL5081  SINGLE PROTEIN   \n",
       "491    Q9Y6E0           STK24     CHEMBL5082  SINGLE PROTEIN   \n",
       "492    Q9Y6M4   CSNK1G3|KC1G3     CHEMBL5084  SINGLE PROTEIN   \n",
       "493    Q9Y6R4     M3K4|MAP3K4     CHEMBL4853  SINGLE PROTEIN   \n",
       "\n",
       "                                                origin  \n",
       "0                                                klifs  \n",
       "1    kinhub|klifs|pkinfam|reviewed_uniprot|dunbrack...  \n",
       "2    kinhub|klifs|pkinfam|reviewed_uniprot|dunbrack...  \n",
       "3    kinhub|klifs|pkinfam|reviewed_uniprot|dunbrack...  \n",
       "4                                        klifs|pkinfam  \n",
       "..                                                 ...  \n",
       "489  kinhub|klifs|pkinfam|reviewed_uniprot|dunbrack...  \n",
       "490  kinhub|klifs|pkinfam|reviewed_uniprot|dunbrack...  \n",
       "491  kinhub|klifs|pkinfam|reviewed_uniprot|dunbrack...  \n",
       "492  kinhub|klifs|pkinfam|reviewed_uniprot|dunbrack...  \n",
       "493  kinhub|klifs|pkinfam|reviewed_uniprot|dunbrack...  \n",
       "\n",
       "[494 rows x 5 columns]"
      ]
     },
     "execution_count": 4,
     "metadata": {},
     "output_type": "execute_result"
    }
   ],
   "source": [
    "kinases = pd.read_csv(DATA / f\"human_kinases_and_chembl_targets.chembl_{CHEMBL_VERSION}.csv\")\n",
    "kinases"
   ]
  },
  {
   "cell_type": "markdown",
   "metadata": {},
   "source": [
    "We are only interested in `SINGLE PROTEIN` targets for now."
   ]
  },
  {
   "cell_type": "code",
   "execution_count": 5,
   "metadata": {},
   "outputs": [
    {
     "data": {
      "text/html": [
       "<div>\n",
       "<style scoped>\n",
       "    .dataframe tbody tr th:only-of-type {\n",
       "        vertical-align: middle;\n",
       "    }\n",
       "\n",
       "    .dataframe tbody tr th {\n",
       "        vertical-align: top;\n",
       "    }\n",
       "\n",
       "    .dataframe thead th {\n",
       "        text-align: right;\n",
       "    }\n",
       "</style>\n",
       "<table border=\"1\" class=\"dataframe\">\n",
       "  <thead>\n",
       "    <tr style=\"text-align: right;\">\n",
       "      <th></th>\n",
       "      <th>UniprotID</th>\n",
       "      <th>Name</th>\n",
       "      <th>chembl_targets</th>\n",
       "      <th>origin</th>\n",
       "    </tr>\n",
       "  </thead>\n",
       "  <tbody>\n",
       "    <tr>\n",
       "      <th>0</th>\n",
       "      <td>A4QPH2</td>\n",
       "      <td>PI4KAP2</td>\n",
       "      <td>CHEMBL4105789</td>\n",
       "      <td>klifs</td>\n",
       "    </tr>\n",
       "    <tr>\n",
       "      <th>1</th>\n",
       "      <td>O00141</td>\n",
       "      <td>SGK1</td>\n",
       "      <td>CHEMBL2343</td>\n",
       "      <td>kinhub|klifs|pkinfam|reviewed_uniprot|dunbrack...</td>\n",
       "    </tr>\n",
       "    <tr>\n",
       "      <th>2</th>\n",
       "      <td>O00238</td>\n",
       "      <td>BMR1B|BMPR1B</td>\n",
       "      <td>CHEMBL5476</td>\n",
       "      <td>kinhub|klifs|pkinfam|reviewed_uniprot|dunbrack...</td>\n",
       "    </tr>\n",
       "    <tr>\n",
       "      <th>3</th>\n",
       "      <td>O00311</td>\n",
       "      <td>CDC7</td>\n",
       "      <td>CHEMBL5443</td>\n",
       "      <td>kinhub|klifs|pkinfam|reviewed_uniprot|dunbrack...</td>\n",
       "    </tr>\n",
       "    <tr>\n",
       "      <th>4</th>\n",
       "      <td>O00329</td>\n",
       "      <td>PIK3CD</td>\n",
       "      <td>CHEMBL3130</td>\n",
       "      <td>klifs|pkinfam</td>\n",
       "    </tr>\n",
       "    <tr>\n",
       "      <th>...</th>\n",
       "      <td>...</td>\n",
       "      <td>...</td>\n",
       "      <td>...</td>\n",
       "      <td>...</td>\n",
       "    </tr>\n",
       "    <tr>\n",
       "      <th>489</th>\n",
       "      <td>Q9Y5S2</td>\n",
       "      <td>CDC42BPB|MRCKB</td>\n",
       "      <td>CHEMBL5052</td>\n",
       "      <td>kinhub|klifs|pkinfam|reviewed_uniprot|dunbrack...</td>\n",
       "    </tr>\n",
       "    <tr>\n",
       "      <th>490</th>\n",
       "      <td>Q9Y616</td>\n",
       "      <td>IRAK3</td>\n",
       "      <td>CHEMBL5081</td>\n",
       "      <td>kinhub|klifs|pkinfam|reviewed_uniprot|dunbrack...</td>\n",
       "    </tr>\n",
       "    <tr>\n",
       "      <th>491</th>\n",
       "      <td>Q9Y6E0</td>\n",
       "      <td>STK24</td>\n",
       "      <td>CHEMBL5082</td>\n",
       "      <td>kinhub|klifs|pkinfam|reviewed_uniprot|dunbrack...</td>\n",
       "    </tr>\n",
       "    <tr>\n",
       "      <th>492</th>\n",
       "      <td>Q9Y6M4</td>\n",
       "      <td>CSNK1G3|KC1G3</td>\n",
       "      <td>CHEMBL5084</td>\n",
       "      <td>kinhub|klifs|pkinfam|reviewed_uniprot|dunbrack...</td>\n",
       "    </tr>\n",
       "    <tr>\n",
       "      <th>493</th>\n",
       "      <td>Q9Y6R4</td>\n",
       "      <td>M3K4|MAP3K4</td>\n",
       "      <td>CHEMBL4853</td>\n",
       "      <td>kinhub|klifs|pkinfam|reviewed_uniprot|dunbrack...</td>\n",
       "    </tr>\n",
       "  </tbody>\n",
       "</table>\n",
       "<p>494 rows × 4 columns</p>\n",
       "</div>"
      ],
      "text/plain": [
       "    UniprotID            Name chembl_targets  \\\n",
       "0      A4QPH2         PI4KAP2  CHEMBL4105789   \n",
       "1      O00141            SGK1     CHEMBL2343   \n",
       "2      O00238    BMR1B|BMPR1B     CHEMBL5476   \n",
       "3      O00311            CDC7     CHEMBL5443   \n",
       "4      O00329          PIK3CD     CHEMBL3130   \n",
       "..        ...             ...            ...   \n",
       "489    Q9Y5S2  CDC42BPB|MRCKB     CHEMBL5052   \n",
       "490    Q9Y616           IRAK3     CHEMBL5081   \n",
       "491    Q9Y6E0           STK24     CHEMBL5082   \n",
       "492    Q9Y6M4   CSNK1G3|KC1G3     CHEMBL5084   \n",
       "493    Q9Y6R4     M3K4|MAP3K4     CHEMBL4853   \n",
       "\n",
       "                                                origin  \n",
       "0                                                klifs  \n",
       "1    kinhub|klifs|pkinfam|reviewed_uniprot|dunbrack...  \n",
       "2    kinhub|klifs|pkinfam|reviewed_uniprot|dunbrack...  \n",
       "3    kinhub|klifs|pkinfam|reviewed_uniprot|dunbrack...  \n",
       "4                                        klifs|pkinfam  \n",
       "..                                                 ...  \n",
       "489  kinhub|klifs|pkinfam|reviewed_uniprot|dunbrack...  \n",
       "490  kinhub|klifs|pkinfam|reviewed_uniprot|dunbrack...  \n",
       "491  kinhub|klifs|pkinfam|reviewed_uniprot|dunbrack...  \n",
       "492  kinhub|klifs|pkinfam|reviewed_uniprot|dunbrack...  \n",
       "493  kinhub|klifs|pkinfam|reviewed_uniprot|dunbrack...  \n",
       "\n",
       "[494 rows x 4 columns]"
      ]
     },
     "execution_count": 5,
     "metadata": {},
     "output_type": "execute_result"
    }
   ],
   "source": [
    "kinases_sp = kinases[kinases.type == \"SINGLE PROTEIN\"].drop(\"type\", axis=1)\n",
    "kinases_sp"
   ]
  },
  {
   "cell_type": "markdown",
   "metadata": {},
   "source": [
    "We will need this dataframe to map between chembl target and uniprot later, when we write the query results to disk."
   ]
  },
  {
   "cell_type": "markdown",
   "metadata": {},
   "source": [
    "# Query local ChEMBL DB for speed"
   ]
  },
  {
   "cell_type": "code",
   "execution_count": 6,
   "metadata": {},
   "outputs": [],
   "source": [
    "conn = sql.connect(CHEMBL_SQLITE_PATH, isolation_level=None)"
   ]
  },
  {
   "cell_type": "markdown",
   "metadata": {},
   "source": [
    "## Types of assays\n",
    "\n",
    "Check which kind of assays can be found on human kinases."
   ]
  },
  {
   "cell_type": "code",
   "execution_count": 7,
   "metadata": {},
   "outputs": [],
   "source": [
    "CHEMBL_TARGETS = set(kinases_sp.chembl_targets.tolist())\n",
    "q = f\"\"\"\n",
    "SELECT standard_type, COUNT(standard_type) \n",
    "FROM activities\n",
    "    LEFT JOIN assays ON assays.assay_id=activities.assay_id\n",
    "    LEFT JOIN target_dictionary ON target_dictionary.tid=assays.tid\n",
    "WHERE\n",
    "    target_dictionary.chembl_id IN ({', '.join([f'\"{x}\"' for x in CHEMBL_TARGETS])})\n",
    "GROUP BY standard_type \n",
    "ORDER BY 2 DESC\n",
    "\"\"\""
   ]
  },
  {
   "cell_type": "code",
   "execution_count": 8,
   "metadata": {},
   "outputs": [],
   "source": [
    "assay_types = pd.read_sql(q, conn)\n",
    "assay_types.columns = [\"Value\", \"Count\"]"
   ]
  },
  {
   "cell_type": "code",
   "execution_count": 9,
   "metadata": {},
   "outputs": [
    {
     "data": {
      "text/html": [
       "<div>\n",
       "<style scoped>\n",
       "    .dataframe tbody tr th:only-of-type {\n",
       "        vertical-align: middle;\n",
       "    }\n",
       "\n",
       "    .dataframe tbody tr th {\n",
       "        vertical-align: top;\n",
       "    }\n",
       "\n",
       "    .dataframe thead th {\n",
       "        text-align: right;\n",
       "    }\n",
       "</style>\n",
       "<table border=\"1\" class=\"dataframe\">\n",
       "  <thead>\n",
       "    <tr style=\"text-align: right;\">\n",
       "      <th></th>\n",
       "      <th>Value</th>\n",
       "      <th>Count</th>\n",
       "    </tr>\n",
       "  </thead>\n",
       "  <tbody>\n",
       "    <tr>\n",
       "      <th>0</th>\n",
       "      <td>IC50</td>\n",
       "      <td>279394</td>\n",
       "    </tr>\n",
       "    <tr>\n",
       "      <th>1</th>\n",
       "      <td>Inhibition</td>\n",
       "      <td>255802</td>\n",
       "    </tr>\n",
       "    <tr>\n",
       "      <th>2</th>\n",
       "      <td>Ki</td>\n",
       "      <td>138883</td>\n",
       "    </tr>\n",
       "    <tr>\n",
       "      <th>3</th>\n",
       "      <td>Kd</td>\n",
       "      <td>107693</td>\n",
       "    </tr>\n",
       "    <tr>\n",
       "      <th>4</th>\n",
       "      <td>Residual Activity</td>\n",
       "      <td>70152</td>\n",
       "    </tr>\n",
       "    <tr>\n",
       "      <th>5</th>\n",
       "      <td>Potency</td>\n",
       "      <td>50182</td>\n",
       "    </tr>\n",
       "    <tr>\n",
       "      <th>6</th>\n",
       "      <td>% Control</td>\n",
       "      <td>50004</td>\n",
       "    </tr>\n",
       "    <tr>\n",
       "      <th>7</th>\n",
       "      <td>Activity</td>\n",
       "      <td>46114</td>\n",
       "    </tr>\n",
       "    <tr>\n",
       "      <th>8</th>\n",
       "      <td>Thermal melting change</td>\n",
       "      <td>9360</td>\n",
       "    </tr>\n",
       "    <tr>\n",
       "      <th>9</th>\n",
       "      <td>EC50</td>\n",
       "      <td>8014</td>\n",
       "    </tr>\n",
       "  </tbody>\n",
       "</table>\n",
       "</div>"
      ],
      "text/plain": [
       "                    Value   Count\n",
       "0                    IC50  279394\n",
       "1              Inhibition  255802\n",
       "2                      Ki  138883\n",
       "3                      Kd  107693\n",
       "4       Residual Activity   70152\n",
       "5                 Potency   50182\n",
       "6               % Control   50004\n",
       "7                Activity   46114\n",
       "8  Thermal melting change    9360\n",
       "9                    EC50    8014"
      ]
     },
     "execution_count": 9,
     "metadata": {},
     "output_type": "execute_result"
    }
   ],
   "source": [
    "assay_types.head(10)"
   ]
  },
  {
   "cell_type": "markdown",
   "metadata": {},
   "source": [
    "There's a lot of information we are not using! `Inhibition` is as populated as `IC50`, but we don't know what kind of information this category contains."
   ]
  },
  {
   "cell_type": "markdown",
   "metadata": {},
   "source": [
    "## Query bioactivities \n",
    "\n",
    "Get all entries in the SQL db that:\n",
    "\n",
    "- Correspond to IC50, Ki, Kd measurements. Check `activities.standard_type` fields.\n",
    "- assay_type = B (Binding)\n",
    "- Relation is `=`\n",
    "- Target is part of the human kinome (as provided by `DATA / human_kinases_and_chembl_targets.chembl_{CHEMBL_VERSION}.csv`, see `kinases` cell)\n",
    "- Confidence score is greather than zero (in practice, only 43 entries have score=0; the rest are either 8 or 9)"
   ]
  },
  {
   "cell_type": "code",
   "execution_count": 10,
   "metadata": {},
   "outputs": [],
   "source": [
    "CHEMBL_TARGETS = set(kinases_sp.chembl_targets.tolist())\n",
    "select_these = [\n",
    "    \"activities.activity_id\",\n",
    "    \"assays.chembl_id\",\n",
    "    \"target_dictionary.chembl_id\", \n",
    "    \"molecule_dictionary.chembl_id\", \n",
    "    \"molecule_dictionary.max_phase\", \n",
    "    \"activities.standard_type\", \n",
    "    \"activities.standard_value\", \n",
    "    \"activities.standard_units\", \n",
    "    \"compound_structures.canonical_smiles\", \n",
    "    \"compound_structures.standard_inchi\", \n",
    "    \"component_sequences.sequence\", \n",
    "    \"assays.confidence_score\", \n",
    "    \"docs.chembl_id\", \n",
    "    \"docs.year\", \n",
    "    \"docs.authors\", \n",
    "]\n",
    "q = f\"\"\"\n",
    "SELECT\n",
    "    {', '.join(select_these)}\n",
    "FROM \n",
    "    activities\n",
    "    LEFT JOIN assays ON assays.assay_id=activities.assay_id\n",
    "    LEFT JOIN target_dictionary ON target_dictionary.tid=assays.tid\n",
    "    LEFT JOIN compound_structures ON activities.molregno=compound_structures.molregno\n",
    "    LEFT JOIN molecule_dictionary ON activities.molregno=molecule_dictionary.molregno\n",
    "    LEFT JOIN target_components ON target_dictionary.tid=target_components.tid\n",
    "    LEFT JOIN component_sequences ON target_components.component_id=component_sequences.component_id\n",
    "    LEFT JOIN docs ON docs.doc_id=activities.doc_id\n",
    "WHERE\n",
    "    target_dictionary.chembl_id IN ({', '.join([f'\"{x}\"' for x in CHEMBL_TARGETS])})\n",
    "AND\n",
    "    activities.standard_relation=\"=\"\n",
    "AND\n",
    "    assays.assay_type=\"B\"\n",
    "AND\n",
    "    activities.standard_type in (\"IC50\", \"Ki\", \"Kd\")\n",
    "AND\n",
    "    assays.confidence_score > 0\n",
    "\"\"\""
   ]
  },
  {
   "cell_type": "code",
   "execution_count": 11,
   "metadata": {},
   "outputs": [],
   "source": [
    "activities_sql = pd.read_sql_query(q, conn)\n",
    "activities_sql.columns = select_these"
   ]
  },
  {
   "cell_type": "markdown",
   "metadata": {},
   "source": [
    "We need to add the UniprotID column from `kinases_sp`:"
   ]
  },
  {
   "cell_type": "code",
   "execution_count": 12,
   "metadata": {},
   "outputs": [
    {
     "data": {
      "text/html": [
       "<div>\n",
       "<style scoped>\n",
       "    .dataframe tbody tr th:only-of-type {\n",
       "        vertical-align: middle;\n",
       "    }\n",
       "\n",
       "    .dataframe tbody tr th {\n",
       "        vertical-align: top;\n",
       "    }\n",
       "\n",
       "    .dataframe thead th {\n",
       "        text-align: right;\n",
       "    }\n",
       "</style>\n",
       "<table border=\"1\" class=\"dataframe\">\n",
       "  <thead>\n",
       "    <tr style=\"text-align: right;\">\n",
       "      <th></th>\n",
       "      <th>activities.activity_id</th>\n",
       "      <th>assays.chembl_id</th>\n",
       "      <th>target_dictionary.chembl_id</th>\n",
       "      <th>molecule_dictionary.chembl_id</th>\n",
       "      <th>molecule_dictionary.max_phase</th>\n",
       "      <th>activities.standard_type</th>\n",
       "      <th>activities.standard_value</th>\n",
       "      <th>activities.standard_units</th>\n",
       "      <th>compound_structures.canonical_smiles</th>\n",
       "      <th>compound_structures.standard_inchi</th>\n",
       "      <th>component_sequences.sequence</th>\n",
       "      <th>assays.confidence_score</th>\n",
       "      <th>docs.chembl_id</th>\n",
       "      <th>docs.year</th>\n",
       "      <th>docs.authors</th>\n",
       "      <th>UniprotID</th>\n",
       "    </tr>\n",
       "  </thead>\n",
       "  <tbody>\n",
       "    <tr>\n",
       "      <th>0</th>\n",
       "      <td>32260</td>\n",
       "      <td>CHEMBL674637</td>\n",
       "      <td>CHEMBL203</td>\n",
       "      <td>CHEMBL68920</td>\n",
       "      <td>0</td>\n",
       "      <td>IC50</td>\n",
       "      <td>41.00</td>\n",
       "      <td>nM</td>\n",
       "      <td>Cc1cc(C)c(/C=C2\\C(=O)Nc3ncnc(Nc4ccc(F)c(Cl)c4)...</td>\n",
       "      <td>InChI=1S/C19H15ClFN5O/c1-9-5-10(2)24-15(9)7-12...</td>\n",
       "      <td>MRPSGTAGAALLALLAALCPASRALEEKKVCQGTSNKLTQLGTFED...</td>\n",
       "      <td>8</td>\n",
       "      <td>CHEMBL1134862</td>\n",
       "      <td>2002.0</td>\n",
       "      <td>Sun L, Cui J, Liang C, Zhou Y, Nematalla A, Wa...</td>\n",
       "      <td>P00533</td>\n",
       "    </tr>\n",
       "    <tr>\n",
       "      <th>1</th>\n",
       "      <td>32262</td>\n",
       "      <td>CHEMBL816964</td>\n",
       "      <td>CHEMBL279</td>\n",
       "      <td>CHEMBL68920</td>\n",
       "      <td>0</td>\n",
       "      <td>IC50</td>\n",
       "      <td>16500.00</td>\n",
       "      <td>nM</td>\n",
       "      <td>Cc1cc(C)c(/C=C2\\C(=O)Nc3ncnc(Nc4ccc(F)c(Cl)c4)...</td>\n",
       "      <td>InChI=1S/C19H15ClFN5O/c1-9-5-10(2)24-15(9)7-12...</td>\n",
       "      <td>MQSKVLLAVALWLCVETRAASVGLPSVSLDLPRLSIQKDILTIKAN...</td>\n",
       "      <td>8</td>\n",
       "      <td>CHEMBL1134862</td>\n",
       "      <td>2002.0</td>\n",
       "      <td>Sun L, Cui J, Liang C, Zhou Y, Nematalla A, Wa...</td>\n",
       "      <td>P35968</td>\n",
       "    </tr>\n",
       "    <tr>\n",
       "      <th>2</th>\n",
       "      <td>32267</td>\n",
       "      <td>CHEMBL674637</td>\n",
       "      <td>CHEMBL203</td>\n",
       "      <td>CHEMBL69960</td>\n",
       "      <td>0</td>\n",
       "      <td>IC50</td>\n",
       "      <td>170.00</td>\n",
       "      <td>nM</td>\n",
       "      <td>Cc1cc(C(=O)N2CCOCC2)[nH]c1/C=C1\\C(=O)Nc2ncnc(N...</td>\n",
       "      <td>InChI=1S/C23H20ClFN6O3/c1-12-8-18(23(33)31-4-6...</td>\n",
       "      <td>MRPSGTAGAALLALLAALCPASRALEEKKVCQGTSNKLTQLGTFED...</td>\n",
       "      <td>8</td>\n",
       "      <td>CHEMBL1134862</td>\n",
       "      <td>2002.0</td>\n",
       "      <td>Sun L, Cui J, Liang C, Zhou Y, Nematalla A, Wa...</td>\n",
       "      <td>P00533</td>\n",
       "    </tr>\n",
       "    <tr>\n",
       "      <th>3</th>\n",
       "      <td>32330</td>\n",
       "      <td>CHEMBL842023</td>\n",
       "      <td>CHEMBL258</td>\n",
       "      <td>CHEMBL69638</td>\n",
       "      <td>0</td>\n",
       "      <td>IC50</td>\n",
       "      <td>140.00</td>\n",
       "      <td>nM</td>\n",
       "      <td>Nc1ncnc2c1c(-c1cccc(Oc3ccccc3)c1)cn2C1CCCC1</td>\n",
       "      <td>InChI=1S/C23H22N4O/c24-22-21-20(14-27(17-8-4-5...</td>\n",
       "      <td>MGCGCSSHPEDDWMENIDVCENCHYPIVPLDGKGTLLIRNGSEVRD...</td>\n",
       "      <td>9</td>\n",
       "      <td>CHEMBL1132739</td>\n",
       "      <td>2000.0</td>\n",
       "      <td>Arnold LD, Calderwood DJ, Dixon RW, Johnston D...</td>\n",
       "      <td>P06239</td>\n",
       "    </tr>\n",
       "    <tr>\n",
       "      <th>4</th>\n",
       "      <td>32331</td>\n",
       "      <td>CHEMBL842019</td>\n",
       "      <td>CHEMBL258</td>\n",
       "      <td>CHEMBL69638</td>\n",
       "      <td>0</td>\n",
       "      <td>IC50</td>\n",
       "      <td>1180.00</td>\n",
       "      <td>nM</td>\n",
       "      <td>Nc1ncnc2c1c(-c1cccc(Oc3ccccc3)c1)cn2C1CCCC1</td>\n",
       "      <td>InChI=1S/C23H22N4O/c24-22-21-20(14-27(17-8-4-5...</td>\n",
       "      <td>MGCGCSSHPEDDWMENIDVCENCHYPIVPLDGKGTLLIRNGSEVRD...</td>\n",
       "      <td>9</td>\n",
       "      <td>CHEMBL1132739</td>\n",
       "      <td>2000.0</td>\n",
       "      <td>Arnold LD, Calderwood DJ, Dixon RW, Johnston D...</td>\n",
       "      <td>P06239</td>\n",
       "    </tr>\n",
       "    <tr>\n",
       "      <th>...</th>\n",
       "      <td>...</td>\n",
       "      <td>...</td>\n",
       "      <td>...</td>\n",
       "      <td>...</td>\n",
       "      <td>...</td>\n",
       "      <td>...</td>\n",
       "      <td>...</td>\n",
       "      <td>...</td>\n",
       "      <td>...</td>\n",
       "      <td>...</td>\n",
       "      <td>...</td>\n",
       "      <td>...</td>\n",
       "      <td>...</td>\n",
       "      <td>...</td>\n",
       "      <td>...</td>\n",
       "      <td>...</td>\n",
       "    </tr>\n",
       "    <tr>\n",
       "      <th>252722</th>\n",
       "      <td>22926828</td>\n",
       "      <td>CHEMBL4737728</td>\n",
       "      <td>CHEMBL3920</td>\n",
       "      <td>CHEMBL4791586</td>\n",
       "      <td>0</td>\n",
       "      <td>Ki</td>\n",
       "      <td>134.00</td>\n",
       "      <td>nM</td>\n",
       "      <td>O=C1NCCC12CCN(c1c(Cl)cncc1-c1cc3ccccc3s1)CC2</td>\n",
       "      <td>InChI=1S/C21H20ClN3OS/c22-16-13-23-12-15(18-11...</td>\n",
       "      <td>MSPFLRIGLSNFDCGSCQSCQGEAVNPYCAVLVKEYVESENGQMYI...</td>\n",
       "      <td>9</td>\n",
       "      <td>CHEMBL4732199</td>\n",
       "      <td>2021.0</td>\n",
       "      <td>Yu M,Teo T,Yang Y,Li M,Long Y,Philip S,Noll B,...</td>\n",
       "      <td>Q04759</td>\n",
       "    </tr>\n",
       "    <tr>\n",
       "      <th>252723</th>\n",
       "      <td>22992611</td>\n",
       "      <td>CHEMBL4775562</td>\n",
       "      <td>CHEMBL3553</td>\n",
       "      <td>CHEMBL4789639</td>\n",
       "      <td>0</td>\n",
       "      <td>Ki</td>\n",
       "      <td>0.02</td>\n",
       "      <td>nM</td>\n",
       "      <td>[2H]C([2H])([2H])NC(=O)c1cnc(NC(=O)C2CC2)cc1Nc...</td>\n",
       "      <td>InChI=1S/C22H21FN6O3/c1-24-22(31)15-11-25-18(2...</td>\n",
       "      <td>MPLRHWGMARGSKPVGDGAQPMAAMGGLKVLLHWAGPGGGEPWVTF...</td>\n",
       "      <td>9</td>\n",
       "      <td>CHEMBL4765480</td>\n",
       "      <td>2021.0</td>\n",
       "      <td>Liu C,Lin J,Langevine C,Smith D,Li J,Tokarski ...</td>\n",
       "      <td>P29597</td>\n",
       "    </tr>\n",
       "    <tr>\n",
       "      <th>252724</th>\n",
       "      <td>22994689</td>\n",
       "      <td>CHEMBL4775836</td>\n",
       "      <td>CHEMBL5678</td>\n",
       "      <td>CHEMBL4791260</td>\n",
       "      <td>0</td>\n",
       "      <td>Ki</td>\n",
       "      <td>1000.00</td>\n",
       "      <td>nM</td>\n",
       "      <td>Cc1[nH]c(/C=C2\\C(=O)Nc3ccc(C(=O)N[C@H](C)c4ccc...</td>\n",
       "      <td>InChI=1S/C26H25ClN4O3/c1-14-22(28-16(3)24(14)3...</td>\n",
       "      <td>MELENIVANTVLLKAREGGGGKRKGKSKKWKEILKFPHISQCEDLR...</td>\n",
       "      <td>9</td>\n",
       "      <td>CHEMBL4765490</td>\n",
       "      <td>2021.0</td>\n",
       "      <td>Rowlands RA,Chen Q,Bouley RA,Avramova LV,Tesme...</td>\n",
       "      <td>P34947</td>\n",
       "    </tr>\n",
       "    <tr>\n",
       "      <th>252725</th>\n",
       "      <td>22994691</td>\n",
       "      <td>CHEMBL4775836</td>\n",
       "      <td>CHEMBL5678</td>\n",
       "      <td>CHEMBL4785430</td>\n",
       "      <td>0</td>\n",
       "      <td>Ki</td>\n",
       "      <td>110.00</td>\n",
       "      <td>nM</td>\n",
       "      <td>Cc1[nH]c(/C=C2\\C(=O)Nc3ccc(C(=O)N[C@H](C)c4ccc...</td>\n",
       "      <td>InChI=1S/C26H25BrN4O3/c1-14-22(28-16(3)24(14)3...</td>\n",
       "      <td>MELENIVANTVLLKAREGGGGKRKGKSKKWKEILKFPHISQCEDLR...</td>\n",
       "      <td>9</td>\n",
       "      <td>CHEMBL4765490</td>\n",
       "      <td>2021.0</td>\n",
       "      <td>Rowlands RA,Chen Q,Bouley RA,Avramova LV,Tesme...</td>\n",
       "      <td>P34947</td>\n",
       "    </tr>\n",
       "    <tr>\n",
       "      <th>252726</th>\n",
       "      <td>22994693</td>\n",
       "      <td>CHEMBL4775836</td>\n",
       "      <td>CHEMBL5678</td>\n",
       "      <td>CHEMBL4786599</td>\n",
       "      <td>0</td>\n",
       "      <td>Ki</td>\n",
       "      <td>19.00</td>\n",
       "      <td>nM</td>\n",
       "      <td>Cc1[nH]c(/C=C2\\C(=O)Nc3ccc(C(=O)N[C@H](C)Cc4cc...</td>\n",
       "      <td>InChI=1S/C27H26ClFN4O3/c1-14(10-17-4-7-19(29)8...</td>\n",
       "      <td>MELENIVANTVLLKAREGGGGKRKGKSKKWKEILKFPHISQCEDLR...</td>\n",
       "      <td>9</td>\n",
       "      <td>CHEMBL4765490</td>\n",
       "      <td>2021.0</td>\n",
       "      <td>Rowlands RA,Chen Q,Bouley RA,Avramova LV,Tesme...</td>\n",
       "      <td>P34947</td>\n",
       "    </tr>\n",
       "  </tbody>\n",
       "</table>\n",
       "<p>252727 rows × 16 columns</p>\n",
       "</div>"
      ],
      "text/plain": [
       "        activities.activity_id assays.chembl_id target_dictionary.chembl_id  \\\n",
       "0                        32260     CHEMBL674637                   CHEMBL203   \n",
       "1                        32262     CHEMBL816964                   CHEMBL279   \n",
       "2                        32267     CHEMBL674637                   CHEMBL203   \n",
       "3                        32330     CHEMBL842023                   CHEMBL258   \n",
       "4                        32331     CHEMBL842019                   CHEMBL258   \n",
       "...                        ...              ...                         ...   \n",
       "252722                22926828    CHEMBL4737728                  CHEMBL3920   \n",
       "252723                22992611    CHEMBL4775562                  CHEMBL3553   \n",
       "252724                22994689    CHEMBL4775836                  CHEMBL5678   \n",
       "252725                22994691    CHEMBL4775836                  CHEMBL5678   \n",
       "252726                22994693    CHEMBL4775836                  CHEMBL5678   \n",
       "\n",
       "       molecule_dictionary.chembl_id  molecule_dictionary.max_phase  \\\n",
       "0                        CHEMBL68920                              0   \n",
       "1                        CHEMBL68920                              0   \n",
       "2                        CHEMBL69960                              0   \n",
       "3                        CHEMBL69638                              0   \n",
       "4                        CHEMBL69638                              0   \n",
       "...                              ...                            ...   \n",
       "252722                 CHEMBL4791586                              0   \n",
       "252723                 CHEMBL4789639                              0   \n",
       "252724                 CHEMBL4791260                              0   \n",
       "252725                 CHEMBL4785430                              0   \n",
       "252726                 CHEMBL4786599                              0   \n",
       "\n",
       "       activities.standard_type  activities.standard_value  \\\n",
       "0                          IC50                      41.00   \n",
       "1                          IC50                   16500.00   \n",
       "2                          IC50                     170.00   \n",
       "3                          IC50                     140.00   \n",
       "4                          IC50                    1180.00   \n",
       "...                         ...                        ...   \n",
       "252722                       Ki                     134.00   \n",
       "252723                       Ki                       0.02   \n",
       "252724                       Ki                    1000.00   \n",
       "252725                       Ki                     110.00   \n",
       "252726                       Ki                      19.00   \n",
       "\n",
       "       activities.standard_units  \\\n",
       "0                             nM   \n",
       "1                             nM   \n",
       "2                             nM   \n",
       "3                             nM   \n",
       "4                             nM   \n",
       "...                          ...   \n",
       "252722                        nM   \n",
       "252723                        nM   \n",
       "252724                        nM   \n",
       "252725                        nM   \n",
       "252726                        nM   \n",
       "\n",
       "                     compound_structures.canonical_smiles  \\\n",
       "0       Cc1cc(C)c(/C=C2\\C(=O)Nc3ncnc(Nc4ccc(F)c(Cl)c4)...   \n",
       "1       Cc1cc(C)c(/C=C2\\C(=O)Nc3ncnc(Nc4ccc(F)c(Cl)c4)...   \n",
       "2       Cc1cc(C(=O)N2CCOCC2)[nH]c1/C=C1\\C(=O)Nc2ncnc(N...   \n",
       "3             Nc1ncnc2c1c(-c1cccc(Oc3ccccc3)c1)cn2C1CCCC1   \n",
       "4             Nc1ncnc2c1c(-c1cccc(Oc3ccccc3)c1)cn2C1CCCC1   \n",
       "...                                                   ...   \n",
       "252722       O=C1NCCC12CCN(c1c(Cl)cncc1-c1cc3ccccc3s1)CC2   \n",
       "252723  [2H]C([2H])([2H])NC(=O)c1cnc(NC(=O)C2CC2)cc1Nc...   \n",
       "252724  Cc1[nH]c(/C=C2\\C(=O)Nc3ccc(C(=O)N[C@H](C)c4ccc...   \n",
       "252725  Cc1[nH]c(/C=C2\\C(=O)Nc3ccc(C(=O)N[C@H](C)c4ccc...   \n",
       "252726  Cc1[nH]c(/C=C2\\C(=O)Nc3ccc(C(=O)N[C@H](C)Cc4cc...   \n",
       "\n",
       "                       compound_structures.standard_inchi  \\\n",
       "0       InChI=1S/C19H15ClFN5O/c1-9-5-10(2)24-15(9)7-12...   \n",
       "1       InChI=1S/C19H15ClFN5O/c1-9-5-10(2)24-15(9)7-12...   \n",
       "2       InChI=1S/C23H20ClFN6O3/c1-12-8-18(23(33)31-4-6...   \n",
       "3       InChI=1S/C23H22N4O/c24-22-21-20(14-27(17-8-4-5...   \n",
       "4       InChI=1S/C23H22N4O/c24-22-21-20(14-27(17-8-4-5...   \n",
       "...                                                   ...   \n",
       "252722  InChI=1S/C21H20ClN3OS/c22-16-13-23-12-15(18-11...   \n",
       "252723  InChI=1S/C22H21FN6O3/c1-24-22(31)15-11-25-18(2...   \n",
       "252724  InChI=1S/C26H25ClN4O3/c1-14-22(28-16(3)24(14)3...   \n",
       "252725  InChI=1S/C26H25BrN4O3/c1-14-22(28-16(3)24(14)3...   \n",
       "252726  InChI=1S/C27H26ClFN4O3/c1-14(10-17-4-7-19(29)8...   \n",
       "\n",
       "                             component_sequences.sequence  \\\n",
       "0       MRPSGTAGAALLALLAALCPASRALEEKKVCQGTSNKLTQLGTFED...   \n",
       "1       MQSKVLLAVALWLCVETRAASVGLPSVSLDLPRLSIQKDILTIKAN...   \n",
       "2       MRPSGTAGAALLALLAALCPASRALEEKKVCQGTSNKLTQLGTFED...   \n",
       "3       MGCGCSSHPEDDWMENIDVCENCHYPIVPLDGKGTLLIRNGSEVRD...   \n",
       "4       MGCGCSSHPEDDWMENIDVCENCHYPIVPLDGKGTLLIRNGSEVRD...   \n",
       "...                                                   ...   \n",
       "252722  MSPFLRIGLSNFDCGSCQSCQGEAVNPYCAVLVKEYVESENGQMYI...   \n",
       "252723  MPLRHWGMARGSKPVGDGAQPMAAMGGLKVLLHWAGPGGGEPWVTF...   \n",
       "252724  MELENIVANTVLLKAREGGGGKRKGKSKKWKEILKFPHISQCEDLR...   \n",
       "252725  MELENIVANTVLLKAREGGGGKRKGKSKKWKEILKFPHISQCEDLR...   \n",
       "252726  MELENIVANTVLLKAREGGGGKRKGKSKKWKEILKFPHISQCEDLR...   \n",
       "\n",
       "        assays.confidence_score docs.chembl_id  docs.year  \\\n",
       "0                             8  CHEMBL1134862     2002.0   \n",
       "1                             8  CHEMBL1134862     2002.0   \n",
       "2                             8  CHEMBL1134862     2002.0   \n",
       "3                             9  CHEMBL1132739     2000.0   \n",
       "4                             9  CHEMBL1132739     2000.0   \n",
       "...                         ...            ...        ...   \n",
       "252722                        9  CHEMBL4732199     2021.0   \n",
       "252723                        9  CHEMBL4765480     2021.0   \n",
       "252724                        9  CHEMBL4765490     2021.0   \n",
       "252725                        9  CHEMBL4765490     2021.0   \n",
       "252726                        9  CHEMBL4765490     2021.0   \n",
       "\n",
       "                                             docs.authors UniprotID  \n",
       "0       Sun L, Cui J, Liang C, Zhou Y, Nematalla A, Wa...    P00533  \n",
       "1       Sun L, Cui J, Liang C, Zhou Y, Nematalla A, Wa...    P35968  \n",
       "2       Sun L, Cui J, Liang C, Zhou Y, Nematalla A, Wa...    P00533  \n",
       "3       Arnold LD, Calderwood DJ, Dixon RW, Johnston D...    P06239  \n",
       "4       Arnold LD, Calderwood DJ, Dixon RW, Johnston D...    P06239  \n",
       "...                                                   ...       ...  \n",
       "252722  Yu M,Teo T,Yang Y,Li M,Long Y,Philip S,Noll B,...    Q04759  \n",
       "252723  Liu C,Lin J,Langevine C,Smith D,Li J,Tokarski ...    P29597  \n",
       "252724  Rowlands RA,Chen Q,Bouley RA,Avramova LV,Tesme...    P34947  \n",
       "252725  Rowlands RA,Chen Q,Bouley RA,Avramova LV,Tesme...    P34947  \n",
       "252726  Rowlands RA,Chen Q,Bouley RA,Avramova LV,Tesme...    P34947  \n",
       "\n",
       "[252727 rows x 16 columns]"
      ]
     },
     "execution_count": 12,
     "metadata": {},
     "output_type": "execute_result"
    }
   ],
   "source": [
    "activities = pd.merge(activities_sql, kinases_sp[[\"chembl_targets\", \"UniprotID\"]], left_on=\"target_dictionary.chembl_id\", right_on=\"chembl_targets\", how=\"left\").drop(columns=[\"chembl_targets\"])\n",
    "activities"
   ]
  },
  {
   "cell_type": "markdown",
   "metadata": {},
   "source": [
    "Although units have been standardized, not all of them are $nM$."
   ]
  },
  {
   "cell_type": "code",
   "execution_count": 13,
   "metadata": {},
   "outputs": [
    {
     "data": {
      "text/plain": [
       "array(['nM', 'ug.mL-1', None, 'ucm', '/uM', '/uM/s', \"10'7nM\",\n",
       "       '10^-6 mol/L', '10^-7mol/L', '10^-8mol/L', '10^-5 mol/L',\n",
       "       '10^-9mol/L', \"10'-3/s\", \"10'-10L/mol\", \"10'-9L/mol\", \"10'-2/s\",\n",
       "       '/s', \"10'-1/s\", \"10'-5/s\", \"10'-4/s\", '/nM/min', '10^6/M/s',\n",
       "       '10^4/M/s', '10^2/M/s'], dtype=object)"
      ]
     },
     "execution_count": 13,
     "metadata": {},
     "output_type": "execute_result"
    }
   ],
   "source": [
    "activities[\"activities.standard_units\"].unique()"
   ]
  },
  {
   "cell_type": "markdown",
   "metadata": {},
   "source": [
    "Let's keep only those that are $nM$."
   ]
  },
  {
   "cell_type": "code",
   "execution_count": 14,
   "metadata": {},
   "outputs": [
    {
     "data": {
      "text/html": [
       "<div>\n",
       "<style scoped>\n",
       "    .dataframe tbody tr th:only-of-type {\n",
       "        vertical-align: middle;\n",
       "    }\n",
       "\n",
       "    .dataframe tbody tr th {\n",
       "        vertical-align: top;\n",
       "    }\n",
       "\n",
       "    .dataframe thead th {\n",
       "        text-align: right;\n",
       "    }\n",
       "</style>\n",
       "<table border=\"1\" class=\"dataframe\">\n",
       "  <thead>\n",
       "    <tr style=\"text-align: right;\">\n",
       "      <th></th>\n",
       "      <th>activities.activity_id</th>\n",
       "      <th>assays.chembl_id</th>\n",
       "      <th>target_dictionary.chembl_id</th>\n",
       "      <th>molecule_dictionary.chembl_id</th>\n",
       "      <th>molecule_dictionary.max_phase</th>\n",
       "      <th>activities.standard_type</th>\n",
       "      <th>activities.standard_value</th>\n",
       "      <th>activities.standard_units</th>\n",
       "      <th>compound_structures.canonical_smiles</th>\n",
       "      <th>compound_structures.standard_inchi</th>\n",
       "      <th>component_sequences.sequence</th>\n",
       "      <th>assays.confidence_score</th>\n",
       "      <th>docs.chembl_id</th>\n",
       "      <th>docs.year</th>\n",
       "      <th>docs.authors</th>\n",
       "      <th>UniprotID</th>\n",
       "    </tr>\n",
       "  </thead>\n",
       "  <tbody>\n",
       "    <tr>\n",
       "      <th>0</th>\n",
       "      <td>32260</td>\n",
       "      <td>CHEMBL674637</td>\n",
       "      <td>CHEMBL203</td>\n",
       "      <td>CHEMBL68920</td>\n",
       "      <td>0</td>\n",
       "      <td>IC50</td>\n",
       "      <td>41.00</td>\n",
       "      <td>nM</td>\n",
       "      <td>Cc1cc(C)c(/C=C2\\C(=O)Nc3ncnc(Nc4ccc(F)c(Cl)c4)...</td>\n",
       "      <td>InChI=1S/C19H15ClFN5O/c1-9-5-10(2)24-15(9)7-12...</td>\n",
       "      <td>MRPSGTAGAALLALLAALCPASRALEEKKVCQGTSNKLTQLGTFED...</td>\n",
       "      <td>8</td>\n",
       "      <td>CHEMBL1134862</td>\n",
       "      <td>2002.0</td>\n",
       "      <td>Sun L, Cui J, Liang C, Zhou Y, Nematalla A, Wa...</td>\n",
       "      <td>P00533</td>\n",
       "    </tr>\n",
       "    <tr>\n",
       "      <th>1</th>\n",
       "      <td>32262</td>\n",
       "      <td>CHEMBL816964</td>\n",
       "      <td>CHEMBL279</td>\n",
       "      <td>CHEMBL68920</td>\n",
       "      <td>0</td>\n",
       "      <td>IC50</td>\n",
       "      <td>16500.00</td>\n",
       "      <td>nM</td>\n",
       "      <td>Cc1cc(C)c(/C=C2\\C(=O)Nc3ncnc(Nc4ccc(F)c(Cl)c4)...</td>\n",
       "      <td>InChI=1S/C19H15ClFN5O/c1-9-5-10(2)24-15(9)7-12...</td>\n",
       "      <td>MQSKVLLAVALWLCVETRAASVGLPSVSLDLPRLSIQKDILTIKAN...</td>\n",
       "      <td>8</td>\n",
       "      <td>CHEMBL1134862</td>\n",
       "      <td>2002.0</td>\n",
       "      <td>Sun L, Cui J, Liang C, Zhou Y, Nematalla A, Wa...</td>\n",
       "      <td>P35968</td>\n",
       "    </tr>\n",
       "    <tr>\n",
       "      <th>2</th>\n",
       "      <td>32267</td>\n",
       "      <td>CHEMBL674637</td>\n",
       "      <td>CHEMBL203</td>\n",
       "      <td>CHEMBL69960</td>\n",
       "      <td>0</td>\n",
       "      <td>IC50</td>\n",
       "      <td>170.00</td>\n",
       "      <td>nM</td>\n",
       "      <td>Cc1cc(C(=O)N2CCOCC2)[nH]c1/C=C1\\C(=O)Nc2ncnc(N...</td>\n",
       "      <td>InChI=1S/C23H20ClFN6O3/c1-12-8-18(23(33)31-4-6...</td>\n",
       "      <td>MRPSGTAGAALLALLAALCPASRALEEKKVCQGTSNKLTQLGTFED...</td>\n",
       "      <td>8</td>\n",
       "      <td>CHEMBL1134862</td>\n",
       "      <td>2002.0</td>\n",
       "      <td>Sun L, Cui J, Liang C, Zhou Y, Nematalla A, Wa...</td>\n",
       "      <td>P00533</td>\n",
       "    </tr>\n",
       "    <tr>\n",
       "      <th>3</th>\n",
       "      <td>32330</td>\n",
       "      <td>CHEMBL842023</td>\n",
       "      <td>CHEMBL258</td>\n",
       "      <td>CHEMBL69638</td>\n",
       "      <td>0</td>\n",
       "      <td>IC50</td>\n",
       "      <td>140.00</td>\n",
       "      <td>nM</td>\n",
       "      <td>Nc1ncnc2c1c(-c1cccc(Oc3ccccc3)c1)cn2C1CCCC1</td>\n",
       "      <td>InChI=1S/C23H22N4O/c24-22-21-20(14-27(17-8-4-5...</td>\n",
       "      <td>MGCGCSSHPEDDWMENIDVCENCHYPIVPLDGKGTLLIRNGSEVRD...</td>\n",
       "      <td>9</td>\n",
       "      <td>CHEMBL1132739</td>\n",
       "      <td>2000.0</td>\n",
       "      <td>Arnold LD, Calderwood DJ, Dixon RW, Johnston D...</td>\n",
       "      <td>P06239</td>\n",
       "    </tr>\n",
       "    <tr>\n",
       "      <th>4</th>\n",
       "      <td>32331</td>\n",
       "      <td>CHEMBL842019</td>\n",
       "      <td>CHEMBL258</td>\n",
       "      <td>CHEMBL69638</td>\n",
       "      <td>0</td>\n",
       "      <td>IC50</td>\n",
       "      <td>1180.00</td>\n",
       "      <td>nM</td>\n",
       "      <td>Nc1ncnc2c1c(-c1cccc(Oc3ccccc3)c1)cn2C1CCCC1</td>\n",
       "      <td>InChI=1S/C23H22N4O/c24-22-21-20(14-27(17-8-4-5...</td>\n",
       "      <td>MGCGCSSHPEDDWMENIDVCENCHYPIVPLDGKGTLLIRNGSEVRD...</td>\n",
       "      <td>9</td>\n",
       "      <td>CHEMBL1132739</td>\n",
       "      <td>2000.0</td>\n",
       "      <td>Arnold LD, Calderwood DJ, Dixon RW, Johnston D...</td>\n",
       "      <td>P06239</td>\n",
       "    </tr>\n",
       "    <tr>\n",
       "      <th>...</th>\n",
       "      <td>...</td>\n",
       "      <td>...</td>\n",
       "      <td>...</td>\n",
       "      <td>...</td>\n",
       "      <td>...</td>\n",
       "      <td>...</td>\n",
       "      <td>...</td>\n",
       "      <td>...</td>\n",
       "      <td>...</td>\n",
       "      <td>...</td>\n",
       "      <td>...</td>\n",
       "      <td>...</td>\n",
       "      <td>...</td>\n",
       "      <td>...</td>\n",
       "      <td>...</td>\n",
       "      <td>...</td>\n",
       "    </tr>\n",
       "    <tr>\n",
       "      <th>252722</th>\n",
       "      <td>22926828</td>\n",
       "      <td>CHEMBL4737728</td>\n",
       "      <td>CHEMBL3920</td>\n",
       "      <td>CHEMBL4791586</td>\n",
       "      <td>0</td>\n",
       "      <td>Ki</td>\n",
       "      <td>134.00</td>\n",
       "      <td>nM</td>\n",
       "      <td>O=C1NCCC12CCN(c1c(Cl)cncc1-c1cc3ccccc3s1)CC2</td>\n",
       "      <td>InChI=1S/C21H20ClN3OS/c22-16-13-23-12-15(18-11...</td>\n",
       "      <td>MSPFLRIGLSNFDCGSCQSCQGEAVNPYCAVLVKEYVESENGQMYI...</td>\n",
       "      <td>9</td>\n",
       "      <td>CHEMBL4732199</td>\n",
       "      <td>2021.0</td>\n",
       "      <td>Yu M,Teo T,Yang Y,Li M,Long Y,Philip S,Noll B,...</td>\n",
       "      <td>Q04759</td>\n",
       "    </tr>\n",
       "    <tr>\n",
       "      <th>252723</th>\n",
       "      <td>22992611</td>\n",
       "      <td>CHEMBL4775562</td>\n",
       "      <td>CHEMBL3553</td>\n",
       "      <td>CHEMBL4789639</td>\n",
       "      <td>0</td>\n",
       "      <td>Ki</td>\n",
       "      <td>0.02</td>\n",
       "      <td>nM</td>\n",
       "      <td>[2H]C([2H])([2H])NC(=O)c1cnc(NC(=O)C2CC2)cc1Nc...</td>\n",
       "      <td>InChI=1S/C22H21FN6O3/c1-24-22(31)15-11-25-18(2...</td>\n",
       "      <td>MPLRHWGMARGSKPVGDGAQPMAAMGGLKVLLHWAGPGGGEPWVTF...</td>\n",
       "      <td>9</td>\n",
       "      <td>CHEMBL4765480</td>\n",
       "      <td>2021.0</td>\n",
       "      <td>Liu C,Lin J,Langevine C,Smith D,Li J,Tokarski ...</td>\n",
       "      <td>P29597</td>\n",
       "    </tr>\n",
       "    <tr>\n",
       "      <th>252724</th>\n",
       "      <td>22994689</td>\n",
       "      <td>CHEMBL4775836</td>\n",
       "      <td>CHEMBL5678</td>\n",
       "      <td>CHEMBL4791260</td>\n",
       "      <td>0</td>\n",
       "      <td>Ki</td>\n",
       "      <td>1000.00</td>\n",
       "      <td>nM</td>\n",
       "      <td>Cc1[nH]c(/C=C2\\C(=O)Nc3ccc(C(=O)N[C@H](C)c4ccc...</td>\n",
       "      <td>InChI=1S/C26H25ClN4O3/c1-14-22(28-16(3)24(14)3...</td>\n",
       "      <td>MELENIVANTVLLKAREGGGGKRKGKSKKWKEILKFPHISQCEDLR...</td>\n",
       "      <td>9</td>\n",
       "      <td>CHEMBL4765490</td>\n",
       "      <td>2021.0</td>\n",
       "      <td>Rowlands RA,Chen Q,Bouley RA,Avramova LV,Tesme...</td>\n",
       "      <td>P34947</td>\n",
       "    </tr>\n",
       "    <tr>\n",
       "      <th>252725</th>\n",
       "      <td>22994691</td>\n",
       "      <td>CHEMBL4775836</td>\n",
       "      <td>CHEMBL5678</td>\n",
       "      <td>CHEMBL4785430</td>\n",
       "      <td>0</td>\n",
       "      <td>Ki</td>\n",
       "      <td>110.00</td>\n",
       "      <td>nM</td>\n",
       "      <td>Cc1[nH]c(/C=C2\\C(=O)Nc3ccc(C(=O)N[C@H](C)c4ccc...</td>\n",
       "      <td>InChI=1S/C26H25BrN4O3/c1-14-22(28-16(3)24(14)3...</td>\n",
       "      <td>MELENIVANTVLLKAREGGGGKRKGKSKKWKEILKFPHISQCEDLR...</td>\n",
       "      <td>9</td>\n",
       "      <td>CHEMBL4765490</td>\n",
       "      <td>2021.0</td>\n",
       "      <td>Rowlands RA,Chen Q,Bouley RA,Avramova LV,Tesme...</td>\n",
       "      <td>P34947</td>\n",
       "    </tr>\n",
       "    <tr>\n",
       "      <th>252726</th>\n",
       "      <td>22994693</td>\n",
       "      <td>CHEMBL4775836</td>\n",
       "      <td>CHEMBL5678</td>\n",
       "      <td>CHEMBL4786599</td>\n",
       "      <td>0</td>\n",
       "      <td>Ki</td>\n",
       "      <td>19.00</td>\n",
       "      <td>nM</td>\n",
       "      <td>Cc1[nH]c(/C=C2\\C(=O)Nc3ccc(C(=O)N[C@H](C)Cc4cc...</td>\n",
       "      <td>InChI=1S/C27H26ClFN4O3/c1-14(10-17-4-7-19(29)8...</td>\n",
       "      <td>MELENIVANTVLLKAREGGGGKRKGKSKKWKEILKFPHISQCEDLR...</td>\n",
       "      <td>9</td>\n",
       "      <td>CHEMBL4765490</td>\n",
       "      <td>2021.0</td>\n",
       "      <td>Rowlands RA,Chen Q,Bouley RA,Avramova LV,Tesme...</td>\n",
       "      <td>P34947</td>\n",
       "    </tr>\n",
       "  </tbody>\n",
       "</table>\n",
       "<p>252191 rows × 16 columns</p>\n",
       "</div>"
      ],
      "text/plain": [
       "        activities.activity_id assays.chembl_id target_dictionary.chembl_id  \\\n",
       "0                        32260     CHEMBL674637                   CHEMBL203   \n",
       "1                        32262     CHEMBL816964                   CHEMBL279   \n",
       "2                        32267     CHEMBL674637                   CHEMBL203   \n",
       "3                        32330     CHEMBL842023                   CHEMBL258   \n",
       "4                        32331     CHEMBL842019                   CHEMBL258   \n",
       "...                        ...              ...                         ...   \n",
       "252722                22926828    CHEMBL4737728                  CHEMBL3920   \n",
       "252723                22992611    CHEMBL4775562                  CHEMBL3553   \n",
       "252724                22994689    CHEMBL4775836                  CHEMBL5678   \n",
       "252725                22994691    CHEMBL4775836                  CHEMBL5678   \n",
       "252726                22994693    CHEMBL4775836                  CHEMBL5678   \n",
       "\n",
       "       molecule_dictionary.chembl_id  molecule_dictionary.max_phase  \\\n",
       "0                        CHEMBL68920                              0   \n",
       "1                        CHEMBL68920                              0   \n",
       "2                        CHEMBL69960                              0   \n",
       "3                        CHEMBL69638                              0   \n",
       "4                        CHEMBL69638                              0   \n",
       "...                              ...                            ...   \n",
       "252722                 CHEMBL4791586                              0   \n",
       "252723                 CHEMBL4789639                              0   \n",
       "252724                 CHEMBL4791260                              0   \n",
       "252725                 CHEMBL4785430                              0   \n",
       "252726                 CHEMBL4786599                              0   \n",
       "\n",
       "       activities.standard_type  activities.standard_value  \\\n",
       "0                          IC50                      41.00   \n",
       "1                          IC50                   16500.00   \n",
       "2                          IC50                     170.00   \n",
       "3                          IC50                     140.00   \n",
       "4                          IC50                    1180.00   \n",
       "...                         ...                        ...   \n",
       "252722                       Ki                     134.00   \n",
       "252723                       Ki                       0.02   \n",
       "252724                       Ki                    1000.00   \n",
       "252725                       Ki                     110.00   \n",
       "252726                       Ki                      19.00   \n",
       "\n",
       "       activities.standard_units  \\\n",
       "0                             nM   \n",
       "1                             nM   \n",
       "2                             nM   \n",
       "3                             nM   \n",
       "4                             nM   \n",
       "...                          ...   \n",
       "252722                        nM   \n",
       "252723                        nM   \n",
       "252724                        nM   \n",
       "252725                        nM   \n",
       "252726                        nM   \n",
       "\n",
       "                     compound_structures.canonical_smiles  \\\n",
       "0       Cc1cc(C)c(/C=C2\\C(=O)Nc3ncnc(Nc4ccc(F)c(Cl)c4)...   \n",
       "1       Cc1cc(C)c(/C=C2\\C(=O)Nc3ncnc(Nc4ccc(F)c(Cl)c4)...   \n",
       "2       Cc1cc(C(=O)N2CCOCC2)[nH]c1/C=C1\\C(=O)Nc2ncnc(N...   \n",
       "3             Nc1ncnc2c1c(-c1cccc(Oc3ccccc3)c1)cn2C1CCCC1   \n",
       "4             Nc1ncnc2c1c(-c1cccc(Oc3ccccc3)c1)cn2C1CCCC1   \n",
       "...                                                   ...   \n",
       "252722       O=C1NCCC12CCN(c1c(Cl)cncc1-c1cc3ccccc3s1)CC2   \n",
       "252723  [2H]C([2H])([2H])NC(=O)c1cnc(NC(=O)C2CC2)cc1Nc...   \n",
       "252724  Cc1[nH]c(/C=C2\\C(=O)Nc3ccc(C(=O)N[C@H](C)c4ccc...   \n",
       "252725  Cc1[nH]c(/C=C2\\C(=O)Nc3ccc(C(=O)N[C@H](C)c4ccc...   \n",
       "252726  Cc1[nH]c(/C=C2\\C(=O)Nc3ccc(C(=O)N[C@H](C)Cc4cc...   \n",
       "\n",
       "                       compound_structures.standard_inchi  \\\n",
       "0       InChI=1S/C19H15ClFN5O/c1-9-5-10(2)24-15(9)7-12...   \n",
       "1       InChI=1S/C19H15ClFN5O/c1-9-5-10(2)24-15(9)7-12...   \n",
       "2       InChI=1S/C23H20ClFN6O3/c1-12-8-18(23(33)31-4-6...   \n",
       "3       InChI=1S/C23H22N4O/c24-22-21-20(14-27(17-8-4-5...   \n",
       "4       InChI=1S/C23H22N4O/c24-22-21-20(14-27(17-8-4-5...   \n",
       "...                                                   ...   \n",
       "252722  InChI=1S/C21H20ClN3OS/c22-16-13-23-12-15(18-11...   \n",
       "252723  InChI=1S/C22H21FN6O3/c1-24-22(31)15-11-25-18(2...   \n",
       "252724  InChI=1S/C26H25ClN4O3/c1-14-22(28-16(3)24(14)3...   \n",
       "252725  InChI=1S/C26H25BrN4O3/c1-14-22(28-16(3)24(14)3...   \n",
       "252726  InChI=1S/C27H26ClFN4O3/c1-14(10-17-4-7-19(29)8...   \n",
       "\n",
       "                             component_sequences.sequence  \\\n",
       "0       MRPSGTAGAALLALLAALCPASRALEEKKVCQGTSNKLTQLGTFED...   \n",
       "1       MQSKVLLAVALWLCVETRAASVGLPSVSLDLPRLSIQKDILTIKAN...   \n",
       "2       MRPSGTAGAALLALLAALCPASRALEEKKVCQGTSNKLTQLGTFED...   \n",
       "3       MGCGCSSHPEDDWMENIDVCENCHYPIVPLDGKGTLLIRNGSEVRD...   \n",
       "4       MGCGCSSHPEDDWMENIDVCENCHYPIVPLDGKGTLLIRNGSEVRD...   \n",
       "...                                                   ...   \n",
       "252722  MSPFLRIGLSNFDCGSCQSCQGEAVNPYCAVLVKEYVESENGQMYI...   \n",
       "252723  MPLRHWGMARGSKPVGDGAQPMAAMGGLKVLLHWAGPGGGEPWVTF...   \n",
       "252724  MELENIVANTVLLKAREGGGGKRKGKSKKWKEILKFPHISQCEDLR...   \n",
       "252725  MELENIVANTVLLKAREGGGGKRKGKSKKWKEILKFPHISQCEDLR...   \n",
       "252726  MELENIVANTVLLKAREGGGGKRKGKSKKWKEILKFPHISQCEDLR...   \n",
       "\n",
       "        assays.confidence_score docs.chembl_id  docs.year  \\\n",
       "0                             8  CHEMBL1134862     2002.0   \n",
       "1                             8  CHEMBL1134862     2002.0   \n",
       "2                             8  CHEMBL1134862     2002.0   \n",
       "3                             9  CHEMBL1132739     2000.0   \n",
       "4                             9  CHEMBL1132739     2000.0   \n",
       "...                         ...            ...        ...   \n",
       "252722                        9  CHEMBL4732199     2021.0   \n",
       "252723                        9  CHEMBL4765480     2021.0   \n",
       "252724                        9  CHEMBL4765490     2021.0   \n",
       "252725                        9  CHEMBL4765490     2021.0   \n",
       "252726                        9  CHEMBL4765490     2021.0   \n",
       "\n",
       "                                             docs.authors UniprotID  \n",
       "0       Sun L, Cui J, Liang C, Zhou Y, Nematalla A, Wa...    P00533  \n",
       "1       Sun L, Cui J, Liang C, Zhou Y, Nematalla A, Wa...    P35968  \n",
       "2       Sun L, Cui J, Liang C, Zhou Y, Nematalla A, Wa...    P00533  \n",
       "3       Arnold LD, Calderwood DJ, Dixon RW, Johnston D...    P06239  \n",
       "4       Arnold LD, Calderwood DJ, Dixon RW, Johnston D...    P06239  \n",
       "...                                                   ...       ...  \n",
       "252722  Yu M,Teo T,Yang Y,Li M,Long Y,Philip S,Noll B,...    Q04759  \n",
       "252723  Liu C,Lin J,Langevine C,Smith D,Li J,Tokarski ...    P29597  \n",
       "252724  Rowlands RA,Chen Q,Bouley RA,Avramova LV,Tesme...    P34947  \n",
       "252725  Rowlands RA,Chen Q,Bouley RA,Avramova LV,Tesme...    P34947  \n",
       "252726  Rowlands RA,Chen Q,Bouley RA,Avramova LV,Tesme...    P34947  \n",
       "\n",
       "[252191 rows x 16 columns]"
      ]
     },
     "execution_count": 14,
     "metadata": {},
     "output_type": "execute_result"
    }
   ],
   "source": [
    "nm_activities = activities.query(\"`activities.standard_units` == 'nM'\")\n",
    "nm_activities"
   ]
  },
  {
   "cell_type": "markdown",
   "metadata": {},
   "source": [
    "Before we continue, we want all the activities in logarithmic format (`pMeasurement`). Now that all the values are $nM$, we can do:\n",
    "\n",
    "```python\n",
    "pMeasurement = 9 - (log(measurement) / log(10))\n",
    "```"
   ]
  },
  {
   "cell_type": "code",
   "execution_count": 15,
   "metadata": {},
   "outputs": [
    {
     "data": {
      "text/html": [
       "<div>\n",
       "<style scoped>\n",
       "    .dataframe tbody tr th:only-of-type {\n",
       "        vertical-align: middle;\n",
       "    }\n",
       "\n",
       "    .dataframe tbody tr th {\n",
       "        vertical-align: top;\n",
       "    }\n",
       "\n",
       "    .dataframe thead th {\n",
       "        text-align: right;\n",
       "    }\n",
       "</style>\n",
       "<table border=\"1\" class=\"dataframe\">\n",
       "  <thead>\n",
       "    <tr style=\"text-align: right;\">\n",
       "      <th></th>\n",
       "      <th>activities.activity_id</th>\n",
       "      <th>assays.chembl_id</th>\n",
       "      <th>target_dictionary.chembl_id</th>\n",
       "      <th>molecule_dictionary.chembl_id</th>\n",
       "      <th>molecule_dictionary.max_phase</th>\n",
       "      <th>activities.standard_type</th>\n",
       "      <th>activities.standard_value</th>\n",
       "      <th>activities.standard_units</th>\n",
       "      <th>compound_structures.canonical_smiles</th>\n",
       "      <th>compound_structures.standard_inchi</th>\n",
       "      <th>component_sequences.sequence</th>\n",
       "      <th>assays.confidence_score</th>\n",
       "      <th>docs.chembl_id</th>\n",
       "      <th>docs.year</th>\n",
       "      <th>docs.authors</th>\n",
       "      <th>UniprotID</th>\n",
       "    </tr>\n",
       "  </thead>\n",
       "  <tbody>\n",
       "    <tr>\n",
       "      <th>0</th>\n",
       "      <td>32260</td>\n",
       "      <td>CHEMBL674637</td>\n",
       "      <td>CHEMBL203</td>\n",
       "      <td>CHEMBL68920</td>\n",
       "      <td>0</td>\n",
       "      <td>pIC50</td>\n",
       "      <td>7.387216</td>\n",
       "      <td>nM</td>\n",
       "      <td>Cc1cc(C)c(/C=C2\\C(=O)Nc3ncnc(Nc4ccc(F)c(Cl)c4)...</td>\n",
       "      <td>InChI=1S/C19H15ClFN5O/c1-9-5-10(2)24-15(9)7-12...</td>\n",
       "      <td>MRPSGTAGAALLALLAALCPASRALEEKKVCQGTSNKLTQLGTFED...</td>\n",
       "      <td>8</td>\n",
       "      <td>CHEMBL1134862</td>\n",
       "      <td>2002.0</td>\n",
       "      <td>Sun L, Cui J, Liang C, Zhou Y, Nematalla A, Wa...</td>\n",
       "      <td>P00533</td>\n",
       "    </tr>\n",
       "    <tr>\n",
       "      <th>1</th>\n",
       "      <td>32262</td>\n",
       "      <td>CHEMBL816964</td>\n",
       "      <td>CHEMBL279</td>\n",
       "      <td>CHEMBL68920</td>\n",
       "      <td>0</td>\n",
       "      <td>pIC50</td>\n",
       "      <td>4.782516</td>\n",
       "      <td>nM</td>\n",
       "      <td>Cc1cc(C)c(/C=C2\\C(=O)Nc3ncnc(Nc4ccc(F)c(Cl)c4)...</td>\n",
       "      <td>InChI=1S/C19H15ClFN5O/c1-9-5-10(2)24-15(9)7-12...</td>\n",
       "      <td>MQSKVLLAVALWLCVETRAASVGLPSVSLDLPRLSIQKDILTIKAN...</td>\n",
       "      <td>8</td>\n",
       "      <td>CHEMBL1134862</td>\n",
       "      <td>2002.0</td>\n",
       "      <td>Sun L, Cui J, Liang C, Zhou Y, Nematalla A, Wa...</td>\n",
       "      <td>P35968</td>\n",
       "    </tr>\n",
       "    <tr>\n",
       "      <th>2</th>\n",
       "      <td>32267</td>\n",
       "      <td>CHEMBL674637</td>\n",
       "      <td>CHEMBL203</td>\n",
       "      <td>CHEMBL69960</td>\n",
       "      <td>0</td>\n",
       "      <td>pIC50</td>\n",
       "      <td>6.769551</td>\n",
       "      <td>nM</td>\n",
       "      <td>Cc1cc(C(=O)N2CCOCC2)[nH]c1/C=C1\\C(=O)Nc2ncnc(N...</td>\n",
       "      <td>InChI=1S/C23H20ClFN6O3/c1-12-8-18(23(33)31-4-6...</td>\n",
       "      <td>MRPSGTAGAALLALLAALCPASRALEEKKVCQGTSNKLTQLGTFED...</td>\n",
       "      <td>8</td>\n",
       "      <td>CHEMBL1134862</td>\n",
       "      <td>2002.0</td>\n",
       "      <td>Sun L, Cui J, Liang C, Zhou Y, Nematalla A, Wa...</td>\n",
       "      <td>P00533</td>\n",
       "    </tr>\n",
       "    <tr>\n",
       "      <th>3</th>\n",
       "      <td>32330</td>\n",
       "      <td>CHEMBL842023</td>\n",
       "      <td>CHEMBL258</td>\n",
       "      <td>CHEMBL69638</td>\n",
       "      <td>0</td>\n",
       "      <td>pIC50</td>\n",
       "      <td>6.853872</td>\n",
       "      <td>nM</td>\n",
       "      <td>Nc1ncnc2c1c(-c1cccc(Oc3ccccc3)c1)cn2C1CCCC1</td>\n",
       "      <td>InChI=1S/C23H22N4O/c24-22-21-20(14-27(17-8-4-5...</td>\n",
       "      <td>MGCGCSSHPEDDWMENIDVCENCHYPIVPLDGKGTLLIRNGSEVRD...</td>\n",
       "      <td>9</td>\n",
       "      <td>CHEMBL1132739</td>\n",
       "      <td>2000.0</td>\n",
       "      <td>Arnold LD, Calderwood DJ, Dixon RW, Johnston D...</td>\n",
       "      <td>P06239</td>\n",
       "    </tr>\n",
       "    <tr>\n",
       "      <th>4</th>\n",
       "      <td>32331</td>\n",
       "      <td>CHEMBL842019</td>\n",
       "      <td>CHEMBL258</td>\n",
       "      <td>CHEMBL69638</td>\n",
       "      <td>0</td>\n",
       "      <td>pIC50</td>\n",
       "      <td>5.928118</td>\n",
       "      <td>nM</td>\n",
       "      <td>Nc1ncnc2c1c(-c1cccc(Oc3ccccc3)c1)cn2C1CCCC1</td>\n",
       "      <td>InChI=1S/C23H22N4O/c24-22-21-20(14-27(17-8-4-5...</td>\n",
       "      <td>MGCGCSSHPEDDWMENIDVCENCHYPIVPLDGKGTLLIRNGSEVRD...</td>\n",
       "      <td>9</td>\n",
       "      <td>CHEMBL1132739</td>\n",
       "      <td>2000.0</td>\n",
       "      <td>Arnold LD, Calderwood DJ, Dixon RW, Johnston D...</td>\n",
       "      <td>P06239</td>\n",
       "    </tr>\n",
       "    <tr>\n",
       "      <th>...</th>\n",
       "      <td>...</td>\n",
       "      <td>...</td>\n",
       "      <td>...</td>\n",
       "      <td>...</td>\n",
       "      <td>...</td>\n",
       "      <td>...</td>\n",
       "      <td>...</td>\n",
       "      <td>...</td>\n",
       "      <td>...</td>\n",
       "      <td>...</td>\n",
       "      <td>...</td>\n",
       "      <td>...</td>\n",
       "      <td>...</td>\n",
       "      <td>...</td>\n",
       "      <td>...</td>\n",
       "      <td>...</td>\n",
       "    </tr>\n",
       "    <tr>\n",
       "      <th>252722</th>\n",
       "      <td>22926828</td>\n",
       "      <td>CHEMBL4737728</td>\n",
       "      <td>CHEMBL3920</td>\n",
       "      <td>CHEMBL4791586</td>\n",
       "      <td>0</td>\n",
       "      <td>pKi</td>\n",
       "      <td>6.872895</td>\n",
       "      <td>nM</td>\n",
       "      <td>O=C1NCCC12CCN(c1c(Cl)cncc1-c1cc3ccccc3s1)CC2</td>\n",
       "      <td>InChI=1S/C21H20ClN3OS/c22-16-13-23-12-15(18-11...</td>\n",
       "      <td>MSPFLRIGLSNFDCGSCQSCQGEAVNPYCAVLVKEYVESENGQMYI...</td>\n",
       "      <td>9</td>\n",
       "      <td>CHEMBL4732199</td>\n",
       "      <td>2021.0</td>\n",
       "      <td>Yu M,Teo T,Yang Y,Li M,Long Y,Philip S,Noll B,...</td>\n",
       "      <td>Q04759</td>\n",
       "    </tr>\n",
       "    <tr>\n",
       "      <th>252723</th>\n",
       "      <td>22992611</td>\n",
       "      <td>CHEMBL4775562</td>\n",
       "      <td>CHEMBL3553</td>\n",
       "      <td>CHEMBL4789639</td>\n",
       "      <td>0</td>\n",
       "      <td>pKi</td>\n",
       "      <td>10.698970</td>\n",
       "      <td>nM</td>\n",
       "      <td>[2H]C([2H])([2H])NC(=O)c1cnc(NC(=O)C2CC2)cc1Nc...</td>\n",
       "      <td>InChI=1S/C22H21FN6O3/c1-24-22(31)15-11-25-18(2...</td>\n",
       "      <td>MPLRHWGMARGSKPVGDGAQPMAAMGGLKVLLHWAGPGGGEPWVTF...</td>\n",
       "      <td>9</td>\n",
       "      <td>CHEMBL4765480</td>\n",
       "      <td>2021.0</td>\n",
       "      <td>Liu C,Lin J,Langevine C,Smith D,Li J,Tokarski ...</td>\n",
       "      <td>P29597</td>\n",
       "    </tr>\n",
       "    <tr>\n",
       "      <th>252724</th>\n",
       "      <td>22994689</td>\n",
       "      <td>CHEMBL4775836</td>\n",
       "      <td>CHEMBL5678</td>\n",
       "      <td>CHEMBL4791260</td>\n",
       "      <td>0</td>\n",
       "      <td>pKi</td>\n",
       "      <td>6.000000</td>\n",
       "      <td>nM</td>\n",
       "      <td>Cc1[nH]c(/C=C2\\C(=O)Nc3ccc(C(=O)N[C@H](C)c4ccc...</td>\n",
       "      <td>InChI=1S/C26H25ClN4O3/c1-14-22(28-16(3)24(14)3...</td>\n",
       "      <td>MELENIVANTVLLKAREGGGGKRKGKSKKWKEILKFPHISQCEDLR...</td>\n",
       "      <td>9</td>\n",
       "      <td>CHEMBL4765490</td>\n",
       "      <td>2021.0</td>\n",
       "      <td>Rowlands RA,Chen Q,Bouley RA,Avramova LV,Tesme...</td>\n",
       "      <td>P34947</td>\n",
       "    </tr>\n",
       "    <tr>\n",
       "      <th>252725</th>\n",
       "      <td>22994691</td>\n",
       "      <td>CHEMBL4775836</td>\n",
       "      <td>CHEMBL5678</td>\n",
       "      <td>CHEMBL4785430</td>\n",
       "      <td>0</td>\n",
       "      <td>pKi</td>\n",
       "      <td>6.958607</td>\n",
       "      <td>nM</td>\n",
       "      <td>Cc1[nH]c(/C=C2\\C(=O)Nc3ccc(C(=O)N[C@H](C)c4ccc...</td>\n",
       "      <td>InChI=1S/C26H25BrN4O3/c1-14-22(28-16(3)24(14)3...</td>\n",
       "      <td>MELENIVANTVLLKAREGGGGKRKGKSKKWKEILKFPHISQCEDLR...</td>\n",
       "      <td>9</td>\n",
       "      <td>CHEMBL4765490</td>\n",
       "      <td>2021.0</td>\n",
       "      <td>Rowlands RA,Chen Q,Bouley RA,Avramova LV,Tesme...</td>\n",
       "      <td>P34947</td>\n",
       "    </tr>\n",
       "    <tr>\n",
       "      <th>252726</th>\n",
       "      <td>22994693</td>\n",
       "      <td>CHEMBL4775836</td>\n",
       "      <td>CHEMBL5678</td>\n",
       "      <td>CHEMBL4786599</td>\n",
       "      <td>0</td>\n",
       "      <td>pKi</td>\n",
       "      <td>7.721246</td>\n",
       "      <td>nM</td>\n",
       "      <td>Cc1[nH]c(/C=C2\\C(=O)Nc3ccc(C(=O)N[C@H](C)Cc4cc...</td>\n",
       "      <td>InChI=1S/C27H26ClFN4O3/c1-14(10-17-4-7-19(29)8...</td>\n",
       "      <td>MELENIVANTVLLKAREGGGGKRKGKSKKWKEILKFPHISQCEDLR...</td>\n",
       "      <td>9</td>\n",
       "      <td>CHEMBL4765490</td>\n",
       "      <td>2021.0</td>\n",
       "      <td>Rowlands RA,Chen Q,Bouley RA,Avramova LV,Tesme...</td>\n",
       "      <td>P34947</td>\n",
       "    </tr>\n",
       "  </tbody>\n",
       "</table>\n",
       "<p>252191 rows × 16 columns</p>\n",
       "</div>"
      ],
      "text/plain": [
       "        activities.activity_id assays.chembl_id target_dictionary.chembl_id  \\\n",
       "0                        32260     CHEMBL674637                   CHEMBL203   \n",
       "1                        32262     CHEMBL816964                   CHEMBL279   \n",
       "2                        32267     CHEMBL674637                   CHEMBL203   \n",
       "3                        32330     CHEMBL842023                   CHEMBL258   \n",
       "4                        32331     CHEMBL842019                   CHEMBL258   \n",
       "...                        ...              ...                         ...   \n",
       "252722                22926828    CHEMBL4737728                  CHEMBL3920   \n",
       "252723                22992611    CHEMBL4775562                  CHEMBL3553   \n",
       "252724                22994689    CHEMBL4775836                  CHEMBL5678   \n",
       "252725                22994691    CHEMBL4775836                  CHEMBL5678   \n",
       "252726                22994693    CHEMBL4775836                  CHEMBL5678   \n",
       "\n",
       "       molecule_dictionary.chembl_id  molecule_dictionary.max_phase  \\\n",
       "0                        CHEMBL68920                              0   \n",
       "1                        CHEMBL68920                              0   \n",
       "2                        CHEMBL69960                              0   \n",
       "3                        CHEMBL69638                              0   \n",
       "4                        CHEMBL69638                              0   \n",
       "...                              ...                            ...   \n",
       "252722                 CHEMBL4791586                              0   \n",
       "252723                 CHEMBL4789639                              0   \n",
       "252724                 CHEMBL4791260                              0   \n",
       "252725                 CHEMBL4785430                              0   \n",
       "252726                 CHEMBL4786599                              0   \n",
       "\n",
       "       activities.standard_type  activities.standard_value  \\\n",
       "0                         pIC50                   7.387216   \n",
       "1                         pIC50                   4.782516   \n",
       "2                         pIC50                   6.769551   \n",
       "3                         pIC50                   6.853872   \n",
       "4                         pIC50                   5.928118   \n",
       "...                         ...                        ...   \n",
       "252722                      pKi                   6.872895   \n",
       "252723                      pKi                  10.698970   \n",
       "252724                      pKi                   6.000000   \n",
       "252725                      pKi                   6.958607   \n",
       "252726                      pKi                   7.721246   \n",
       "\n",
       "       activities.standard_units  \\\n",
       "0                             nM   \n",
       "1                             nM   \n",
       "2                             nM   \n",
       "3                             nM   \n",
       "4                             nM   \n",
       "...                          ...   \n",
       "252722                        nM   \n",
       "252723                        nM   \n",
       "252724                        nM   \n",
       "252725                        nM   \n",
       "252726                        nM   \n",
       "\n",
       "                     compound_structures.canonical_smiles  \\\n",
       "0       Cc1cc(C)c(/C=C2\\C(=O)Nc3ncnc(Nc4ccc(F)c(Cl)c4)...   \n",
       "1       Cc1cc(C)c(/C=C2\\C(=O)Nc3ncnc(Nc4ccc(F)c(Cl)c4)...   \n",
       "2       Cc1cc(C(=O)N2CCOCC2)[nH]c1/C=C1\\C(=O)Nc2ncnc(N...   \n",
       "3             Nc1ncnc2c1c(-c1cccc(Oc3ccccc3)c1)cn2C1CCCC1   \n",
       "4             Nc1ncnc2c1c(-c1cccc(Oc3ccccc3)c1)cn2C1CCCC1   \n",
       "...                                                   ...   \n",
       "252722       O=C1NCCC12CCN(c1c(Cl)cncc1-c1cc3ccccc3s1)CC2   \n",
       "252723  [2H]C([2H])([2H])NC(=O)c1cnc(NC(=O)C2CC2)cc1Nc...   \n",
       "252724  Cc1[nH]c(/C=C2\\C(=O)Nc3ccc(C(=O)N[C@H](C)c4ccc...   \n",
       "252725  Cc1[nH]c(/C=C2\\C(=O)Nc3ccc(C(=O)N[C@H](C)c4ccc...   \n",
       "252726  Cc1[nH]c(/C=C2\\C(=O)Nc3ccc(C(=O)N[C@H](C)Cc4cc...   \n",
       "\n",
       "                       compound_structures.standard_inchi  \\\n",
       "0       InChI=1S/C19H15ClFN5O/c1-9-5-10(2)24-15(9)7-12...   \n",
       "1       InChI=1S/C19H15ClFN5O/c1-9-5-10(2)24-15(9)7-12...   \n",
       "2       InChI=1S/C23H20ClFN6O3/c1-12-8-18(23(33)31-4-6...   \n",
       "3       InChI=1S/C23H22N4O/c24-22-21-20(14-27(17-8-4-5...   \n",
       "4       InChI=1S/C23H22N4O/c24-22-21-20(14-27(17-8-4-5...   \n",
       "...                                                   ...   \n",
       "252722  InChI=1S/C21H20ClN3OS/c22-16-13-23-12-15(18-11...   \n",
       "252723  InChI=1S/C22H21FN6O3/c1-24-22(31)15-11-25-18(2...   \n",
       "252724  InChI=1S/C26H25ClN4O3/c1-14-22(28-16(3)24(14)3...   \n",
       "252725  InChI=1S/C26H25BrN4O3/c1-14-22(28-16(3)24(14)3...   \n",
       "252726  InChI=1S/C27H26ClFN4O3/c1-14(10-17-4-7-19(29)8...   \n",
       "\n",
       "                             component_sequences.sequence  \\\n",
       "0       MRPSGTAGAALLALLAALCPASRALEEKKVCQGTSNKLTQLGTFED...   \n",
       "1       MQSKVLLAVALWLCVETRAASVGLPSVSLDLPRLSIQKDILTIKAN...   \n",
       "2       MRPSGTAGAALLALLAALCPASRALEEKKVCQGTSNKLTQLGTFED...   \n",
       "3       MGCGCSSHPEDDWMENIDVCENCHYPIVPLDGKGTLLIRNGSEVRD...   \n",
       "4       MGCGCSSHPEDDWMENIDVCENCHYPIVPLDGKGTLLIRNGSEVRD...   \n",
       "...                                                   ...   \n",
       "252722  MSPFLRIGLSNFDCGSCQSCQGEAVNPYCAVLVKEYVESENGQMYI...   \n",
       "252723  MPLRHWGMARGSKPVGDGAQPMAAMGGLKVLLHWAGPGGGEPWVTF...   \n",
       "252724  MELENIVANTVLLKAREGGGGKRKGKSKKWKEILKFPHISQCEDLR...   \n",
       "252725  MELENIVANTVLLKAREGGGGKRKGKSKKWKEILKFPHISQCEDLR...   \n",
       "252726  MELENIVANTVLLKAREGGGGKRKGKSKKWKEILKFPHISQCEDLR...   \n",
       "\n",
       "        assays.confidence_score docs.chembl_id  docs.year  \\\n",
       "0                             8  CHEMBL1134862     2002.0   \n",
       "1                             8  CHEMBL1134862     2002.0   \n",
       "2                             8  CHEMBL1134862     2002.0   \n",
       "3                             9  CHEMBL1132739     2000.0   \n",
       "4                             9  CHEMBL1132739     2000.0   \n",
       "...                         ...            ...        ...   \n",
       "252722                        9  CHEMBL4732199     2021.0   \n",
       "252723                        9  CHEMBL4765480     2021.0   \n",
       "252724                        9  CHEMBL4765490     2021.0   \n",
       "252725                        9  CHEMBL4765490     2021.0   \n",
       "252726                        9  CHEMBL4765490     2021.0   \n",
       "\n",
       "                                             docs.authors UniprotID  \n",
       "0       Sun L, Cui J, Liang C, Zhou Y, Nematalla A, Wa...    P00533  \n",
       "1       Sun L, Cui J, Liang C, Zhou Y, Nematalla A, Wa...    P35968  \n",
       "2       Sun L, Cui J, Liang C, Zhou Y, Nematalla A, Wa...    P00533  \n",
       "3       Arnold LD, Calderwood DJ, Dixon RW, Johnston D...    P06239  \n",
       "4       Arnold LD, Calderwood DJ, Dixon RW, Johnston D...    P06239  \n",
       "...                                                   ...       ...  \n",
       "252722  Yu M,Teo T,Yang Y,Li M,Long Y,Philip S,Noll B,...    Q04759  \n",
       "252723  Liu C,Lin J,Langevine C,Smith D,Li J,Tokarski ...    P29597  \n",
       "252724  Rowlands RA,Chen Q,Bouley RA,Avramova LV,Tesme...    P34947  \n",
       "252725  Rowlands RA,Chen Q,Bouley RA,Avramova LV,Tesme...    P34947  \n",
       "252726  Rowlands RA,Chen Q,Bouley RA,Avramova LV,Tesme...    P34947  \n",
       "\n",
       "[252191 rows x 16 columns]"
      ]
     },
     "execution_count": 15,
     "metadata": {},
     "output_type": "execute_result"
    }
   ],
   "source": [
    "with pd.option_context(\"chained_assignment\", None):\n",
    "    nm_activities.loc[:, \"activities.standard_value\"] = nm_activities[\"activities.standard_value\"].apply(lambda x: 9 - (np.log(x) / np.log(10)))\n",
    "    nm_activities.loc[:, \"activities.standard_type\"] = nm_activities[\"activities.standard_type\"].apply(\"p{}\".format)\n",
    "nm_activities"
   ]
  },
  {
   "cell_type": "markdown",
   "metadata": {},
   "source": [
    "Let's save the dataset as is, with no curation, now."
   ]
  },
  {
   "cell_type": "code",
   "execution_count": 16,
   "metadata": {},
   "outputs": [],
   "source": [
    "nm_activities.to_csv(OUT / f\"activities-chembl{CHEMBL_VERSION}-not-curated.csv\")"
   ]
  },
  {
   "cell_type": "markdown",
   "metadata": {},
   "source": [
    "# Curate the dataset"
   ]
  },
  {
   "cell_type": "markdown",
   "metadata": {},
   "source": [
    "The following list is compiled from lessons learned in Kramer's _J. Med. Chem._ 2012, 55, 5165-5173. [10.1021/jm300131x](https://dx.doi.org/10.1021/jm300131x).\n",
    "\n",
    "Kramer et al propose the following pipeline to make sure the data queried from ChEMBL is high quality:\n",
    "\n",
    "1. **Remove the dummy target CHEMBL612545**. Maybe we don't have this because we are coming from UniProt IDs, but this is a dummy identifier for unchecked targets!\n",
    "2. **Group by protein and ligand, and remove singletons**. Systems that were measured only once are not taken into account. We might leave these ones.\n",
    "3. **Remove unclear units or values**. Only measurements with reported units. Values lower than $1fM$, higher than $10mM$ must be removed too.\n",
    "4. **Keep the highest pKi for those systems with several measurements in the _same_ publication**. This handles unclear stereoisomer annotations and/or experimental optimization.\n",
    "5. **Remove measurements that come from manuscripts citing the original reporting publication**. Probably the most important part here. Identical values for the same system in different publications were removed, as well as those within 0.02 pKi units (rounding error), or exactly 3 or 6 pKi units (transcription errors).\n",
    "6. **Remove measurements for the same system from different publications if they share one or more authors**. This helps identify truly independent measurements.\n",
    "\n",
    "We will try to implement this in the following sections. Each step will be checkpointed in the `curated` list."
   ]
  },
  {
   "cell_type": "code",
   "execution_count": 17,
   "metadata": {},
   "outputs": [],
   "source": [
    "curated = []"
   ]
  },
  {
   "cell_type": "code",
   "execution_count": 18,
   "metadata": {},
   "outputs": [
    {
     "name": "stdout",
     "output_type": "stream",
     "text": [
      "Initial number of bioactivities: 252191\n"
     ]
    }
   ],
   "source": [
    "print(\"Initial number of bioactivities:\", nm_activities.shape[0])"
   ]
  },
  {
   "cell_type": "markdown",
   "metadata": {},
   "source": [
    "## Remove the dummy target CHEMBL612545"
   ]
  },
  {
   "cell_type": "code",
   "execution_count": 19,
   "metadata": {},
   "outputs": [
    {
     "data": {
      "text/plain": [
       "252191"
      ]
     },
     "execution_count": 19,
     "metadata": {},
     "output_type": "execute_result"
    }
   ],
   "source": [
    "no_dummy = nm_activities.query(\"'CHEMBL612545' not in `target_dictionary.chembl_id`\")\n",
    "no_dummy.shape[0]"
   ]
  },
  {
   "cell_type": "code",
   "execution_count": 20,
   "metadata": {},
   "outputs": [],
   "source": [
    "curated.append(no_dummy)"
   ]
  },
  {
   "cell_type": "markdown",
   "metadata": {},
   "source": [
    "## Group by protein and ligand, and remove singletons.\n",
    "\n",
    "We are _not_ removing the singletons because we can actually use them (Kramer et al were studing the distribution of activity values, we are doing predictions). This is here so we get an idea on how many \"single measurements\" the dataset contains."
   ]
  },
  {
   "cell_type": "code",
   "execution_count": 21,
   "metadata": {},
   "outputs": [
    {
     "name": "stdout",
     "output_type": "stream",
     "text": [
      "Single measurements ratio: 165840 out of 252727 -> 65.62021469807341 %\n"
     ]
    }
   ],
   "source": [
    "grouped_by_system = no_dummy.groupby(['target_dictionary.chembl_id', 'molecule_dictionary.chembl_id'])\n",
    "grouped_counts = grouped_by_system.size()\n",
    "singletons = grouped_counts[grouped_counts == 1].index\n",
    "print(\"Single measurements ratio:\", singletons.shape[0], \"out of\", activities.shape[0], \"->\", 100 * singletons.shape[0] / activities.shape[0], \"%\")"
   ]
  },
  {
   "cell_type": "markdown",
   "metadata": {},
   "source": [
    "## Clean extreme values\n"
   ]
  },
  {
   "cell_type": "code",
   "execution_count": 22,
   "metadata": {},
   "outputs": [
    {
     "data": {
      "text/plain": [
       "252139"
      ]
     },
     "execution_count": 22,
     "metadata": {},
     "output_type": "execute_result"
    }
   ],
   "source": [
    "no_extreme = no_dummy.query(\"1 <= `activities.standard_value` <= 15\")\n",
    "no_extreme.shape[0]"
   ]
  },
  {
   "cell_type": "code",
   "execution_count": 23,
   "metadata": {},
   "outputs": [],
   "source": [
    "curated.append(no_extreme)"
   ]
  },
  {
   "cell_type": "markdown",
   "metadata": {},
   "source": [
    "## Keep the highest value for those systems with several measurements in the same publication\n",
    "\n",
    "We sort by activity value (largest first), and then remove the duplicate keys for target+ligand+document, thus removing those values in the same publication that are not the maximum, because we keep the first occurrence."
   ]
  },
  {
   "cell_type": "code",
   "execution_count": 24,
   "metadata": {},
   "outputs": [
    {
     "data": {
      "text/plain": [
       "220238"
      ]
     },
     "execution_count": 24,
     "metadata": {},
     "output_type": "execute_result"
    }
   ],
   "source": [
    "max_activity_same_publication = no_extreme.sort_values(\"activities.standard_value\", ascending=False).drop_duplicates([\"target_dictionary.chembl_id\", \"molecule_dictionary.chembl_id\", \"docs.chembl_id\"])\n",
    "max_activity_same_publication.shape[0]"
   ]
  },
  {
   "cell_type": "code",
   "execution_count": 25,
   "metadata": {},
   "outputs": [],
   "source": [
    "curated.append(max_activity_same_publication)"
   ]
  },
  {
   "cell_type": "markdown",
   "metadata": {},
   "source": [
    "## Remove measurements that come from manuscripts citing the original reporting publication."
   ]
  },
  {
   "cell_type": "markdown",
   "metadata": {},
   "source": [
    "Identify systems that have the exact same number."
   ]
  },
  {
   "cell_type": "code",
   "execution_count": 26,
   "metadata": {},
   "outputs": [
    {
     "data": {
      "text/plain": [
       "209409"
      ]
     },
     "execution_count": 26,
     "metadata": {},
     "output_type": "execute_result"
    }
   ],
   "source": [
    "no_exact_duplicates = max_activity_same_publication.drop_duplicates([\"target_dictionary.chembl_id\", \"molecule_dictionary.chembl_id\", \"activities.standard_value\"])\n",
    "no_exact_duplicates.shape[0]"
   ]
  },
  {
   "cell_type": "code",
   "execution_count": 27,
   "metadata": {},
   "outputs": [],
   "source": [
    "curated.append(no_exact_duplicates)"
   ]
  },
  {
   "cell_type": "markdown",
   "metadata": {},
   "source": [
    "What about those within a certain rounding error? We do that by removing duplicates after rounding with two decimal points. As a result our threshold is smaller (0.01 vs Kramer's 0.02)."
   ]
  },
  {
   "cell_type": "code",
   "execution_count": 28,
   "metadata": {},
   "outputs": [
    {
     "data": {
      "text/plain": [
       "208343"
      ]
     },
     "execution_count": 28,
     "metadata": {},
     "output_type": "execute_result"
    }
   ],
   "source": [
    "no_rounded_duplicates = (\n",
    "    no_exact_duplicates\n",
    "        .assign(activities_standard_value_rounded=lambda x: x[\"activities.standard_value\"].round(2))\n",
    "        .drop_duplicates([\"target_dictionary.chembl_id\", \"molecule_dictionary.chembl_id\", \"activities_standard_value_rounded\"])\n",
    "        .drop(columns=[\"activities_standard_value_rounded\"])\n",
    ")\n",
    "no_rounded_duplicates.shape[0]"
   ]
  },
  {
   "cell_type": "markdown",
   "metadata": {},
   "source": [
    "We don't deal with unit transcription errors because in that case we are trusting ChEMBL's standardized units."
   ]
  },
  {
   "cell_type": "code",
   "execution_count": 29,
   "metadata": {},
   "outputs": [],
   "source": [
    "curated.append(no_rounded_duplicates)"
   ]
  },
  {
   "cell_type": "markdown",
   "metadata": {},
   "source": [
    "## Remove measurements for the same system from different publications if they share one or more authors"
   ]
  },
  {
   "cell_type": "code",
   "execution_count": 30,
   "metadata": {},
   "outputs": [
    {
     "data": {
      "text/plain": [
       "96698      True\n",
       "94326      True\n",
       "98119      True\n",
       "101161     True\n",
       "96324      True\n",
       "          ...  \n",
       "69513     False\n",
       "60026      True\n",
       "146070     True\n",
       "194917     True\n",
       "201200    False\n",
       "Name: docs.authors, Length: 208343, dtype: bool"
      ]
     },
     "execution_count": 30,
     "metadata": {},
     "output_type": "execute_result"
    }
   ],
   "source": [
    "def shared_authors(group):\n",
    "    \"Return True if authors are not shared and we should keep this group\"\n",
    "    if group.shape[0] == 1:\n",
    "        return [True]\n",
    "    authors_per_entry = [(set() if entry is None else set(entry.split(\", \"))) for entry in group.values]\n",
    "    return [any(a.intersection(b) for b in authors_per_entry if a != b) for a in authors_per_entry]\n",
    "\n",
    "no_shared_authors_mask = no_rounded_duplicates.groupby([\"target_dictionary.chembl_id\", \"molecule_dictionary.chembl_id\"])[\"docs.authors\"].transform(shared_authors)\n",
    "no_shared_authors_mask"
   ]
  },
  {
   "cell_type": "code",
   "execution_count": 31,
   "metadata": {},
   "outputs": [
    {
     "data": {
      "text/plain": [
       "197073"
      ]
     },
     "execution_count": 31,
     "metadata": {},
     "output_type": "execute_result"
    }
   ],
   "source": [
    "no_shared_authors = no_rounded_duplicates[no_shared_authors_mask]\n",
    "no_shared_authors.shape[0]"
   ]
  },
  {
   "cell_type": "code",
   "execution_count": 32,
   "metadata": {},
   "outputs": [],
   "source": [
    "curated.append(no_shared_authors)"
   ]
  },
  {
   "cell_type": "code",
   "execution_count": 33,
   "metadata": {},
   "outputs": [],
   "source": [
    "final = curated[-1]"
   ]
  },
  {
   "cell_type": "markdown",
   "metadata": {},
   "source": [
    "Save to CSV"
   ]
  },
  {
   "cell_type": "code",
   "execution_count": 34,
   "metadata": {},
   "outputs": [],
   "source": [
    "final.to_csv(OUT / f\"activities-chembl{CHEMBL_VERSION}.csv\")"
   ]
  },
  {
   "cell_type": "markdown",
   "metadata": {},
   "source": [
    "# Analyze cleaned data"
   ]
  },
  {
   "cell_type": "code",
   "execution_count": 36,
   "metadata": {},
   "outputs": [
    {
     "data": {
      "image/png": "[encoded data removed]",
      "text/plain": [
       "<Figure size 432x288 with 1 Axes>"
      ]
     },
     "metadata": {
      "needs_background": "light"
     },
     "output_type": "display_data"
    }
   ],
   "source": [
    "from matplotlib import pyplot as plt\n",
    "\n",
    "fig, ax = plt.subplots()\n",
    "ax.plot(range(1, len(curated) + 1), [df.shape[0] for df in curated])\n",
    "ax.set_xlabel(\"Curation steps\")\n",
    "ax.set_ylabel(\"# data points\")\n",
    "ax.set_ylim(0, 300000);"
   ]
  },
  {
   "cell_type": "code",
   "execution_count": 37,
   "metadata": {},
   "outputs": [
    {
     "data": {
      "image/png": "[encoded data removed]",
      "text/plain": [
       "<Figure size 432x288 with 1 Axes>"
      ]
     },
     "metadata": {
      "needs_background": "light"
     },
     "output_type": "display_data"
    }
   ],
   "source": [
    "final[\"activities.standard_value\"].plot.hist(title=\"Distribution of p-activity values\", xlabel=\"pMeasurement\");"
   ]
  },
  {
   "cell_type": "code",
   "execution_count": 38,
   "metadata": {},
   "outputs": [
    {
     "data": {
      "text/plain": [
       "9    120455\n",
       "8     76618\n",
       "Name: assays.confidence_score, dtype: int64"
      ]
     },
     "metadata": {},
     "output_type": "display_data"
    },
    {
     "data": {
      "image/png": "[encoded data removed]",
      "text/plain": [
       "<Figure size 432x288 with 1 Axes>"
      ]
     },
     "metadata": {
      "needs_background": "light"
     },
     "output_type": "display_data"
    }
   ],
   "source": [
    "display(final[\"assays.confidence_score\"].value_counts())\n",
    "final[\"assays.confidence_score\"].plot.hist(title=\"Distribution of confidence scores\");"
   ]
  },
  {
   "cell_type": "markdown",
   "metadata": {},
   "source": [
    "Distribution of document ids:"
   ]
  },
  {
   "cell_type": "code",
   "execution_count": 39,
   "metadata": {},
   "outputs": [
    {
     "data": {
      "text/plain": [
       "CHEMBL1908390    5300\n",
       "CHEMBL3991601    3331\n",
       "CHEMBL3879910    3316\n",
       "CHEMBL1240340    2239\n",
       "CHEMBL3886441    1511\n",
       "CHEMBL3639326    1502\n",
       "CHEMBL3886705    1227\n",
       "CHEMBL3638592    1148\n",
       "CHEMBL1150977    1115\n",
       "CHEMBL3638646    1104\n",
       "Name: docs.chembl_id, dtype: int64"
      ]
     },
     "metadata": {},
     "output_type": "display_data"
    },
    {
     "data": {
      "image/png": "[encoded data removed]",
      "text/plain": [
       "<Figure size 432x288 with 1 Axes>"
      ]
     },
     "metadata": {
      "needs_background": "light"
     },
     "output_type": "display_data"
    }
   ],
   "source": [
    "doc_counts = final[\"docs.chembl_id\"].value_counts()\n",
    "display(doc_counts[:10])\n",
    "doc_counts[:30].plot.bar();"
   ]
  },
  {
   "cell_type": "markdown",
   "metadata": {},
   "source": [
    "Distribution of clinical phases:"
   ]
  },
  {
   "cell_type": "code",
   "execution_count": 40,
   "metadata": {},
   "outputs": [
    {
     "data": {
      "text/plain": [
       "0    186834\n",
       "4      3457\n",
       "2      2994\n",
       "1      1992\n",
       "3      1796\n",
       "Name: molecule_dictionary.max_phase, dtype: int64"
      ]
     },
     "metadata": {},
     "output_type": "display_data"
    },
    {
     "data": {
      "image/png": "[encoded data removed]",
      "text/plain": [
       "<Figure size 432x288 with 1 Axes>"
      ]
     },
     "metadata": {
      "needs_background": "light"
     },
     "output_type": "display_data"
    }
   ],
   "source": [
    "phase_counts = final[\"molecule_dictionary.max_phase\"].value_counts()\n",
    "display(phase_counts[:10])\n",
    "phase_counts[:30].plot.bar();"
   ]
  },
  {
   "cell_type": "markdown",
   "metadata": {},
   "source": [
    "Distribution of measurements per kinase:"
   ]
  },
  {
   "cell_type": "code",
   "execution_count": 41,
   "metadata": {},
   "outputs": [],
   "source": [
    "counts_per_target = final.groupby(\"target_dictionary.chembl_id\").size().sort_values(ascending=False)"
   ]
  },
  {
   "cell_type": "code",
   "execution_count": 42,
   "metadata": {},
   "outputs": [],
   "source": [
    "from IPython.display import Markdown"
   ]
  },
  {
   "cell_type": "code",
   "execution_count": 43,
   "metadata": {},
   "outputs": [
    {
     "data": {
      "text/markdown": [
       "| Target | Count |\n",
       "|--------|-------|\n",
       "| [CHEMBL279](https://www.ebi.ac.uk/chembl/target_report_card/CHEMBL279/) | 8178 |\n",
       "| [CHEMBL203](https://www.ebi.ac.uk/chembl/target_report_card/CHEMBL203/) | 6733 |\n",
       "| [CHEMBL4005](https://www.ebi.ac.uk/chembl/target_report_card/CHEMBL4005/) | 5614 |\n",
       "| [CHEMBL2971](https://www.ebi.ac.uk/chembl/target_report_card/CHEMBL2971/) | 5516 |\n",
       "| [CHEMBL2835](https://www.ebi.ac.uk/chembl/target_report_card/CHEMBL2835/) | 4345 |\n",
       "| [CHEMBL2842](https://www.ebi.ac.uk/chembl/target_report_card/CHEMBL2842/) | 4211 |\n",
       "| [CHEMBL260](https://www.ebi.ac.uk/chembl/target_report_card/CHEMBL260/) | 4118 |\n",
       "| [CHEMBL2147](https://www.ebi.ac.uk/chembl/target_report_card/CHEMBL2147/) | 3974 |\n",
       "| [CHEMBL5145](https://www.ebi.ac.uk/chembl/target_report_card/CHEMBL5145/) | 3960 |\n",
       "| [CHEMBL1163125](https://www.ebi.ac.uk/chembl/target_report_card/CHEMBL1163125/) | 3675 |\n",
       "| [CHEMBL3717](https://www.ebi.ac.uk/chembl/target_report_card/CHEMBL3717/) | 3416 |\n",
       "| [CHEMBL2599](https://www.ebi.ac.uk/chembl/target_report_card/CHEMBL2599/) | 3282 |\n",
       "| [CHEMBL267](https://www.ebi.ac.uk/chembl/target_report_card/CHEMBL267/) | 3270 |\n",
       "| [CHEMBL2148](https://www.ebi.ac.uk/chembl/target_report_card/CHEMBL2148/) | 3154 |\n",
       "| [CHEMBL4282](https://www.ebi.ac.uk/chembl/target_report_card/CHEMBL4282/) | 3021 |\n",
       "| [CHEMBL4040](https://www.ebi.ac.uk/chembl/target_report_card/CHEMBL4040/) | 3019 |\n",
       "| [CHEMBL3130](https://www.ebi.ac.uk/chembl/target_report_card/CHEMBL3130/) | 2982 |\n",
       "| [CHEMBL2815](https://www.ebi.ac.uk/chembl/target_report_card/CHEMBL2815/) | 2827 |\n",
       "| [CHEMBL4722](https://www.ebi.ac.uk/chembl/target_report_card/CHEMBL4722/) | 2766 |\n",
       "| [CHEMBL262](https://www.ebi.ac.uk/chembl/target_report_card/CHEMBL262/) | 2713 |"
      ],
      "text/plain": [
       "<IPython.core.display.Markdown object>"
      ]
     },
     "metadata": {},
     "output_type": "display_data"
    }
   ],
   "source": [
    "md = [\"| Target | Count |\", \n",
    "      \"|--------|-------|\"]\n",
    "for k, v in counts_per_target.head(20).iteritems():\n",
    "    md.append(f\"| [{k}](https://www.ebi.ac.uk/chembl/target_report_card/{k}/) | {v} |\")\n",
    "display(Markdown(\"\\n\".join(md)))"
   ]
  },
  {
   "cell_type": "code",
   "execution_count": 44,
   "metadata": {},
   "outputs": [
    {
     "data": {
      "text/plain": [
       "<AxesSubplot:xlabel='target_dictionary.chembl_id'>"
      ]
     },
     "execution_count": 44,
     "metadata": {},
     "output_type": "execute_result"
    },
    {
     "data": {
      "image/png": "[encoded data removed]",
      "text/plain": [
       "<Figure size 432x288 with 1 Axes>"
      ]
     },
     "metadata": {
      "needs_background": "light"
     },
     "output_type": "display_data"
    }
   ],
   "source": [
    "counts_per_target.plot.bar()"
   ]
  },
  {
   "cell_type": "code",
   "execution_count": 45,
   "metadata": {},
   "outputs": [
    {
     "data": {
      "text/html": [
       "<div>\n",
       "<style scoped>\n",
       "    .dataframe tbody tr th:only-of-type {\n",
       "        vertical-align: middle;\n",
       "    }\n",
       "\n",
       "    .dataframe tbody tr th {\n",
       "        vertical-align: top;\n",
       "    }\n",
       "\n",
       "    .dataframe thead th {\n",
       "        text-align: right;\n",
       "    }\n",
       "</style>\n",
       "<table border=\"1\" class=\"dataframe\">\n",
       "  <thead>\n",
       "    <tr style=\"text-align: right;\">\n",
       "      <th></th>\n",
       "      <th></th>\n",
       "      <th>Count</th>\n",
       "    </tr>\n",
       "    <tr>\n",
       "      <th>target_dictionary.chembl_id</th>\n",
       "      <th>activities.standard_type</th>\n",
       "      <th></th>\n",
       "    </tr>\n",
       "  </thead>\n",
       "  <tbody>\n",
       "    <tr>\n",
       "      <th>CHEMBL1075102</th>\n",
       "      <th>pIC50</th>\n",
       "      <td>18</td>\n",
       "    </tr>\n",
       "    <tr>\n",
       "      <th rowspan=\"3\" valign=\"top\">CHEMBL1075104</th>\n",
       "      <th>pIC50</th>\n",
       "      <td>1103</td>\n",
       "    </tr>\n",
       "    <tr>\n",
       "      <th>pKd</th>\n",
       "      <td>22</td>\n",
       "    </tr>\n",
       "    <tr>\n",
       "      <th>pKi</th>\n",
       "      <td>602</td>\n",
       "    </tr>\n",
       "    <tr>\n",
       "      <th>CHEMBL1075115</th>\n",
       "      <th>pIC50</th>\n",
       "      <td>4</td>\n",
       "    </tr>\n",
       "    <tr>\n",
       "      <th>...</th>\n",
       "      <th>...</th>\n",
       "      <td>...</td>\n",
       "    </tr>\n",
       "    <tr>\n",
       "      <th>CHEMBL6167</th>\n",
       "      <th>pKd</th>\n",
       "      <td>36</td>\n",
       "    </tr>\n",
       "    <tr>\n",
       "      <th rowspan=\"2\" valign=\"top\">CHEMBL6186</th>\n",
       "      <th>pIC50</th>\n",
       "      <td>2</td>\n",
       "    </tr>\n",
       "    <tr>\n",
       "      <th>pKd</th>\n",
       "      <td>16</td>\n",
       "    </tr>\n",
       "    <tr>\n",
       "      <th rowspan=\"2\" valign=\"top\">CHEMBL6191</th>\n",
       "      <th>pIC50</th>\n",
       "      <td>1</td>\n",
       "    </tr>\n",
       "    <tr>\n",
       "      <th>pKd</th>\n",
       "      <td>62</td>\n",
       "    </tr>\n",
       "  </tbody>\n",
       "</table>\n",
       "<p>1009 rows × 1 columns</p>\n",
       "</div>"
      ],
      "text/plain": [
       "                                                      Count\n",
       "target_dictionary.chembl_id activities.standard_type       \n",
       "CHEMBL1075102               pIC50                        18\n",
       "CHEMBL1075104               pIC50                      1103\n",
       "                            pKd                          22\n",
       "                            pKi                         602\n",
       "CHEMBL1075115               pIC50                         4\n",
       "...                                                     ...\n",
       "CHEMBL6167                  pKd                          36\n",
       "CHEMBL6186                  pIC50                         2\n",
       "                            pKd                          16\n",
       "CHEMBL6191                  pIC50                         1\n",
       "                            pKd                          62\n",
       "\n",
       "[1009 rows x 1 columns]"
      ]
     },
     "execution_count": 45,
     "metadata": {},
     "output_type": "execute_result"
    }
   ],
   "source": [
    "counts_per_target_and_measurement = pd.DataFrame(final.groupby([\"target_dictionary.chembl_id\", \"activities.standard_type\"]).size(), columns=[\"Count\"])\n",
    "counts_per_target_and_measurement"
   ]
  },
  {
   "cell_type": "code",
   "execution_count": 46,
   "metadata": {},
   "outputs": [
    {
     "data": {
      "text/plain": [
       "<AxesSubplot:xlabel='target_dictionary.chembl_id,activities.standard_type'>"
      ]
     },
     "execution_count": 46,
     "metadata": {},
     "output_type": "execute_result"
    },
    {
     "data": {
      "image/png": "[encoded data removed]",
      "text/plain": [
       "<Figure size 432x288 with 1 Axes>"
      ]
     },
     "metadata": {
      "needs_background": "light"
     },
     "output_type": "display_data"
    }
   ],
   "source": [
    "counts_per_target_and_measurement.sort_values(by=\"Count\", ascending=False).plot.bar()"
   ]
  }
 ],
 "metadata": {
  "interpreter": {
   "hash": "0300e5a8eaa00f483f78a74a63703ce4e5f45ef77276e605540748ee734ff974"
  },
  "kernelspec": {
   "display_name": "Python 3.9.6 64-bit ('kinoml': conda)",
   "name": "python3"
  },
  "language_info": {
   "codemirror_mode": {
    "name": "ipython",
    "version": 3
   },
   "file_extension": ".py",
   "mimetype": "text/x-python",
   "name": "python",
   "nbconvert_exporter": "python",
   "pygments_lexer": "ipython3",
   "version": "3.9.6"
  },
  "toc-autonumbering": true,
  "toc-showcode": false,
  "toc-showmarkdowntxt": false,
  "toc-showtags": false,
  "widgets": {
   "application/vnd.jupyter.widget-state+json": {
    "state": {},
    "version_major": 2,
    "version_minor": 0
   }
  }
 },
 "nbformat": 4,
 "nbformat_minor": 4
}
